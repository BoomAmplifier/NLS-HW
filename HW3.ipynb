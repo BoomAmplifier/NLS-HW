{
 "cells": [
  {
   "cell_type": "markdown",
   "id": "c86304ae-1ccb-45db-b75b-ddc798fb46a4",
   "metadata": {},
   "source": [
    "# **HW3 for Nonlinear Control Systems** \n",
    "\n",
    "> Instructor: Dr. Le Yi Wang  \n",
    "> **Solutions given by Yuqi Wang**   \n",
    "> Email: he1173@wayne.edu     \n",
    "> Date: 10.10.2021\n",
    "\n",
    "## Descriptions\n",
    "- Source codes are and will be uploaded and updated to [Github repo](https://github.com/BoomAmplifier/NLS-HW.git).  \n",
    "- *Jupyter Notebook* and *python3* are used in the solutions."
   ]
  },
  {
   "cell_type": "markdown",
   "id": "c2c23560-77ea-47f7-9d07-c856d79625f8",
   "metadata": {},
   "source": [
    "## Solutions   \n",
    "#### Problem 1: \n",
    "The norm used in the definitions of stability need not be the usual Euclidian norm. If the state-space is of finite dimesion n( i.e., the state vector has n components), stability and its type are independent of the choice of norm( all norms are \"equivalent\"), although an aparticular choice of norm may make analysis easier. For n=2, draw the unit balls corresponding to the following norms:   \n",
    "Recall that a ball $B(x_0,R)$ of center $x_0$ and radius $R$, is the set of $x$ such that $||x-x_0||\\leq R $, and that the unit ball is $B(0,1)$.\n",
    "\n",
    "**(*i*)** $||x|| ^2 = (x_1)^2 + (x_2)^2 $  (Euclidian norm)   "
   ]
  },
  {
   "cell_type": "markdown",
   "id": "91fd2ae1-4e09-4dd1-a080-315994959dae",
   "metadata": {},
   "source": [
    "**Solution:**  \n",
    "Draw $(x_1)^2 + (x_2)^2 \\leq 1$"
   ]
  },
  {
   "cell_type": "code",
   "execution_count": 2,
   "id": "c05ad1b5-5214-48d5-8f6c-4c5ef3643a7f",
   "metadata": {},
   "outputs": [
    {
     "data": {
      "image/png": "[encoded data removed]",
      "text/plain": [
       "<Figure size 432x288 with 1 Axes>"
      ]
     },
     "metadata": {
      "needs_background": "light"
     },
     "output_type": "display_data"
    }
   ],
   "source": [
    "import numpy as np\n",
    "import matplotlib.pyplot as plt\n",
    "from matplotlib.patches import Ellipse, Circle\n",
    "from sympy import *\n",
    "%matplotlib inline\n",
    "\n",
    "fig = plt.figure()\n",
    "ax = fig.add_subplot(111)\n",
    "\n",
    "# cir1 = Circle(xy = (0.0, 0.0), radius=1, alpha=0.5)\n",
    "# ax.add_patch(cir1)\n",
    "\n",
    "r = 1.0\n",
    "a,b = (0.,0.)\n",
    "\n",
    "theta = np.arange(0, 2*np.pi, 0.01)\n",
    "x = a + r * np.cos(theta)\n",
    "y = b + r * np.sin(theta)\n",
    "ax.plot(x, y)\n",
    "\n",
    "x = np.linspace(-5,5,2)\n",
    "y = 0.0*x\n",
    "ax.plot(x, y,'-.',color='grey')\n",
    "\n",
    "y = np.linspace(-5,5,2)\n",
    "x = 0.0*y\n",
    "ax.plot(x, y,'-.',color='grey')\n",
    "\n",
    "plt.axis('scaled')\n",
    "# plt.axis('equal') \n",
    "plt.ylim(-1.5,1.5)\n",
    "plt.xlim(-1.5,1.5)\n",
    "plt.show()"
   ]
  },
  {
   "cell_type": "markdown",
   "id": "600f1b19-f2f4-46f1-b785-c60cdf33b074",
   "metadata": {},
   "source": [
    "**(*ii*)** $||x||^2=(x_1)^2 + 5(x_2)^2$$\n",
    "\n",
    "**Solution:**\n",
    "$$(x_1)^2 + 5(x_2)^2 \\leq 1$$\n",
    "$$(x_1)^2 + (\\frac{x_2}{1/ \\sqrt{5}})^2 \\leq 1$$"
   ]
  },
  {
   "cell_type": "code",
   "execution_count": 38,
   "id": "d5e7942d-1ae5-4195-ab4b-cd61f228cae3",
   "metadata": {},
   "outputs": [
    {
     "data": {
      "image/png": "[encoded data removed]",
      "text/plain": [
       "<matplotlib.figure.Figure at 0x247cfcd3d68>"
      ]
     },
     "metadata": {
      "needs_background": "light"
     },
     "output_type": "display_data"
    }
   ],
   "source": [
    "fig = plt.figure()\n",
    "ax = fig.add_subplot(111)\n",
    "\n",
    "# cir1 = Circle(xy = (0.0, 0.0), radius=1, alpha=0.5)\n",
    "# ax.add_patch(cir1)\n",
    "\n",
    "r = 1.0\n",
    "a,b = (0.,0.)\n",
    "\n",
    "theta = np.arange(0, 2*np.pi, 0.01)\n",
    "x = a + r * np.cos(theta)\n",
    "y = b + 1/np.sqrt(5)* r * np.sin(theta)\n",
    "ax.plot(x, y)\n",
    "\n",
    "x = np.linspace(-5,5,2)\n",
    "y = 0.0*x\n",
    "ax.plot(x, y,'-.',color='grey')\n",
    "\n",
    "y = np.linspace(-5,5,2)\n",
    "x = 0.0*y\n",
    "ax.plot(x, y,'-.',color='grey')\n",
    "\n",
    "plt.axis('scaled')\n",
    "# plt.axis('equal')  \n",
    "plt.ylim(-1.5,1.5)\n",
    "plt.xlim(-1.5,1.5)\n",
    "plt.show()"
   ]
  },
  {
   "cell_type": "markdown",
   "id": "3e856c0d-40cc-4583-b2ad-7b9944dcaa27",
   "metadata": {},
   "source": [
    "**(*iii*)** $||x||^2=|x_1| + |x_2|$\n",
    "\n",
    "**Solution:**  \n",
    "$L_1$ form, draw $|x_1| + |x_2| \\leq 1$  "
   ]
  },
  {
   "cell_type": "code",
   "execution_count": 2,
   "id": "9c76c41d-0c45-41ea-a1ee-bf88f8e7142a",
   "metadata": {},
   "outputs": [
    {
     "data": {
      "image/png": "[encoded data removed]",
      "text/plain": [
       "<matplotlib.figure.Figure at 0x241e4f864a8>"
      ]
     },
     "metadata": {
      "needs_background": "light"
     },
     "output_type": "display_data"
    }
   ],
   "source": [
    "fig = plt.figure()\n",
    "ax = fig.add_subplot(111)\n",
    "\n",
    "x = np.linspace(1,0,3)\n",
    "y = 1-x\n",
    "ax.plot(x, y)\n",
    "x = np.linspace(1,0,3)\n",
    "y = -(1-x)\n",
    "ax.plot(x, y)\n",
    "x = np.linspace(-1,0,3)\n",
    "y = 1+x\n",
    "ax.plot(x, y)\n",
    "x = np.linspace(-1,0,3)\n",
    "y = -(1+x)\n",
    "ax.plot(x, y)\n",
    "\n",
    "plt.axis('scaled')\n",
    "# plt.axis('equal')\n",
    "plt.ylim(-1.5,1.5)\n",
    "plt.xlim(-1.5,1.5)\n",
    "plt.show()"
   ]
  },
  {
   "cell_type": "markdown",
   "id": "68a77c51-4a19-48d3-88d1-e5be664c05e9",
   "metadata": {},
   "source": [
    "**(*iiii*)** $||x||=Sup(|x_1|, |x_2|)$  \n",
    "Draw \n",
    "$$\n",
    "\\begin{equation}\n",
    "\\left\\{\n",
    "\\begin{array}{}\n",
    "    |x_1| \\leq 1 \\\\\n",
    "    |x_2| \\leq 1\n",
    "\\end{array}\n",
    "\\right.\n",
    "\\end{equation}\n",
    "$$"
   ]
  },
  {
   "cell_type": "code",
   "execution_count": 48,
   "id": "b17d8b5d-e84c-494f-92b7-0a71e807cf2b",
   "metadata": {},
   "outputs": [
    {
     "data": {
      "image/png": "[encoded data removed]",
      "text/plain": [
       "<matplotlib.figure.Figure at 0x247cfcc8dd8>"
      ]
     },
     "metadata": {
      "needs_background": "light"
     },
     "output_type": "display_data"
    }
   ],
   "source": [
    "fig = plt.figure()\n",
    "ax = fig.add_subplot(111)\n",
    "\n",
    "x = np.linspace(1,-1,3)\n",
    "y = 1+0*x\n",
    "ax.plot(x, y)\n",
    "x = np.linspace(1,-1,3)\n",
    "y = -1+0*x\n",
    "ax.plot(x, y)\n",
    "y = np.linspace(1,-1,3)\n",
    "x = 1++0*y\n",
    "ax.plot(x, y)\n",
    "y = np.linspace(1,-1,3)\n",
    "x = -1++0*y\n",
    "ax.plot(x, y)\n",
    "\n",
    "plt.axis('scaled')\n",
    "# plt.axis('equal')  \n",
    "plt.ylim(-1.5,1.5)\n",
    "plt.xlim(-1.5,1.5)\n",
    "plt.show()"
   ]
  },
  {
   "cell_type": "markdown",
   "id": "26b9ee39-1e0c-4d4d-82e3-86717c80cbe4",
   "metadata": {},
   "source": [
    "#### Problem 2:   \n",
    "For the following systems, find the equilibrium points and determine their stability. Indicate whether the stability is asymptotic, and whether it is global.    \n",
    "\n",
    "**(*a*)**   $\\dot{x} =-x^3+\\sin^4{x} $  \n",
    "\n",
    "**Solution:**    \n",
    "Chose $V=x^2 \\geq 0$   \n",
    "Thus, \n",
    "$$ \\lim\\limits_{|x|\\to\\infty}V=\\infty$$  \n",
    "$$ \\dot{V}=2x\\dot{x}=2x(-x^3+\\sin^4{x})$$  \n",
    "Draw $\\dot{V}$ by using python, $\\dot{V}<0$ when $x\\neq 0 $    \n",
    "The system is globally asymptotically convergent to the origin($x=0$).\n"
   ]
  },
  {
   "cell_type": "code",
   "execution_count": 83,
   "id": "f40c8594-e797-42d9-95a0-631b301ac508",
   "metadata": {},
   "outputs": [
    {
     "data": {
      "image/png": "[encoded data removed]",
      "text/plain": [
       "<matplotlib.figure.Figure at 0x247cfffe4e0>"
      ]
     },
     "metadata": {
      "needs_background": "light"
     },
     "output_type": "display_data"
    }
   ],
   "source": [
    "fig = plt.figure()\n",
    "ax = fig.add_subplot(111)\n",
    "\n",
    "x= np.linspace(-1*np.pi,1*np.pi,1024,endpoint=True)\n",
    "y1= np.power(np.sin(x),4)\n",
    "ax.plot(x, y1, label='$\\sin^4{x}$')\n",
    "\n",
    "y2= np.power(x,3)\n",
    "ax.plot(x, y2, label='$x^3$')\n",
    "\n",
    "y3= 2*x*(-y2+y1)\n",
    "ax.plot(x, y3, label='$2*x(-x^3+\\sin^4{x}$')\n",
    "\n",
    "plt.axis('scaled')\n",
    "plt.axis('equal')  \n",
    "plt.xlabel('$x_1$')\n",
    "plt.ylabel('$x_2$')\n",
    "plt.ylim(-1.5,1.5)\n",
    "plt.xlim(-1.5,1.5)\n",
    "\n",
    "plt.legend(loc='upper right',\\\n",
    "           bbox_to_anchor=(1.4, 1.01),ncol=1)\n",
    "\n",
    "plt.show()"
   ]
  },
  {
   "cell_type": "markdown",
   "id": "ee59f9f7-a174-40aa-a3f0-a0153cac1b52",
   "metadata": {},
   "source": [
    "($b$) $\\dot{x}=(5-x)^5$    \n",
    "\n",
    "**Solution:**  \n",
    "Let $e=x-5$, \n",
    "$$ \\dot{e}=\\dot{x}=-e^5$$  \n",
    "Similarly,\n",
    "$$ \\dot{V}=2e\\dot{e}=-2e^6$$  \n",
    "Draw $\\dot{V}$ by using python, $\\dot{V}<0$ when $e\\neq 0 $    \n",
    "The system has a globally asymptotically stable equilibrium point at $x=5$."
   ]
  },
  {
   "cell_type": "code",
   "execution_count": 125,
   "id": "f677daa3-34c2-473e-8fd7-9d56155185eb",
   "metadata": {},
   "outputs": [
    {
     "data": {
      "image/png": "[encoded data removed]",
      "text/plain": [
       "<matplotlib.figure.Figure at 0x247ce69ed68>"
      ]
     },
     "metadata": {
      "needs_background": "light"
     },
     "output_type": "display_data"
    }
   ],
   "source": [
    "fig = plt.figure()\n",
    "ax = fig.add_subplot(111)\n",
    "\n",
    "x= np.linspace(-100,100,1024,endpoint=True)\n",
    "y1= np.power((-x),5)\n",
    "ax.plot(x, y1, label='$(-e)^5$')\n",
    "\n",
    "y2= 2*x*np.power((-x),5)\n",
    "ax.plot(x, y2, label='$2e(-e)^5$')\n",
    "\n",
    "# plt.axis('scaled')\n",
    "# plt.axis('equal')  \n",
    "plt.xlabel('$x_1$')\n",
    "plt.ylabel('$x_2$')\n",
    "plt.ylim(-150,150)\n",
    "plt.xlim(-10,10)\n",
    "\n",
    "plt.legend(loc='upper right',\\\n",
    "           bbox_to_anchor=(1.28, 1.01),ncol=1)\n",
    "\n",
    "plt.show()"
   ]
  },
  {
   "cell_type": "markdown",
   "id": "fc11ac8e-ae8a-4b93-96a5-451752a598fc",
   "metadata": {},
   "source": [
    "($c$)$\\ddot{x}+\\dot{x}^5+x^7=x^2\\sin^8{x} \\cos^2{3x}$ \n",
    "\n",
    "**Solution:**\n",
    "$$\\ddot{x}+\\dot{x}^5+x^7-x^2\\sin^8{x} \\cos^2{3x}=0$$\n",
    "$$\n",
    "\\begin{equation}\n",
    "\\left\\{\n",
    "\\begin{array}{}\n",
    "    b(\\dot{x})=\\dot{x}^5  \\\\\n",
    "    c(x)=x^7-x^2\\sin^8{x} \\cos^2{3x}\n",
    "\\end{array}\n",
    "\\right.\n",
    "\\end{equation}\n",
    "$$\n",
    "Draw $\\dot{x}b(\\dot{x}), xc(x)$, we have\n",
    "$$\n",
    "\\begin{equation}\n",
    "\\left\\{\n",
    "\\begin{array}{}\n",
    "    \\dot{x}b(\\dot{x}) >0 &   &\\text{for}& \\dot{x}\\neq 0 \\\\\n",
    "    xc(x)>0 &   &\\text{for}& x\\neq 0\n",
    "\\end{array}\n",
    "\\right.\n",
    "\\end{equation}\n",
    "$$\n",
    "Chose a positive definite function is\n",
    "$$ V=\\frac{1}{2}\\dot{x}^2 + \\int_0^x c(y)dy$$ \n",
    "$$ \\dot{V}=\\dot{x}\\ddot{x}+c(x)\\dot{x}=-\\dot{x}b(\\dot{x})\\leq 0$$    \n",
    "When $\\dot{x}=0$, $\\ddot{x}=-c(x)$. \n",
    "Which means  \n",
    "$$\\forall x\\neq 0 \\Rightarrow \\ddot{x}=0 $$\n",
    "And $\\int_0^{x=\\infty} c(y)dy=\\infty$  \n",
    "\n",
    "Consequently,the system has a local stable equilibrium point at origin. "
   ]
  },
  {
   "cell_type": "code",
   "execution_count": 28,
   "id": "a6d1cffe-d621-488c-8abf-aef9e31753bd",
   "metadata": {},
   "outputs": [
    {
     "name": "stdout",
     "output_type": "stream",
     "text": [
      "$$ \\frac{x^{8}}{8} - \\frac{31 x^{3} \\sin^{8}{\\left(x \\right)} \\sin^{2}{\\left(3 x \\right)}}{768} - \\frac{13 x^{3} \\sin^{8}{\\left(x \\right)} \\cos^{2}{\\left(3 x \\right)}}{256} + \\frac{x^{3} \\sin^{7}{\\left(x \\right)} \\sin{\\left(3 x \\right)} \\cos{\\left(x \\right)} \\cos{\\left(3 x \\right)}}{16} - \\frac{49 x^{3} \\sin^{6}{\\left(x \\right)} \\sin^{2}{\\left(3 x \\right)} \\cos^{2}{\\left(x \\right)}}{192} - \\frac{7 x^{3} \\sin^{6}{\\left(x \\right)} \\cos^{2}{\\left(x \\right)} \\cos^{2}{\\left(3 x \\right)}}{64} - \\frac{7 x^{3} \\sin^{5}{\\left(x \\right)} \\sin{\\left(3 x \\right)} \\cos^{3}{\\left(x \\right)} \\cos{\\left(3 x \\right)}}{48} - \\frac{35 x^{3} \\sin^{4}{\\left(x \\right)} \\sin^{2}{\\left(3 x \\right)} \\cos^{4}{\\left(x \\right)}}{128} - \\frac{35 x^{3} \\sin^{4}{\\left(x \\right)} \\cos^{4}{\\left(x \\right)} \\cos^{2}{\\left(3 x \\right)}}{128} - \\frac{7 x^{3} \\sin^{3}{\\left(x \\right)} \\sin{\\left(3 x \\right)} \\cos^{5}{\\left(x \\right)} \\cos{\\left(3 x \\right)}}{48} - \\frac{7 x^{3} \\sin^{2}{\\left(x \\right)} \\sin^{2}{\\left(3 x \\right)} \\cos^{6}{\\left(x \\right)}}{64} - \\frac{49 x^{3} \\sin^{2}{\\left(x \\right)} \\cos^{6}{\\left(x \\right)} \\cos^{2}{\\left(3 x \\right)}}{192} + \\frac{x^{3} \\sin{\\left(x \\right)} \\sin{\\left(3 x \\right)} \\cos^{7}{\\left(x \\right)} \\cos{\\left(3 x \\right)}}{16} - \\frac{13 x^{3} \\sin^{2}{\\left(3 x \\right)} \\cos^{8}{\\left(x \\right)}}{256} - \\frac{31 x^{3} \\cos^{8}{\\left(x \\right)} \\cos^{2}{\\left(3 x \\right)}}{768} - \\frac{5219 x^{2} \\sin^{8}{\\left(x \\right)} \\sin{\\left(3 x \\right)} \\cos{\\left(3 x \\right)}}{26880} + \\frac{2067 x^{2} \\sin^{7}{\\left(x \\right)} \\sin^{2}{\\left(3 x \\right)} \\cos{\\left(x \\right)}}{4480} + \\frac{297 x^{2} \\sin^{7}{\\left(x \\right)} \\cos{\\left(x \\right)} \\cos^{2}{\\left(3 x \\right)}}{1120} - \\frac{181 x^{2} \\sin^{6}{\\left(x \\right)} \\sin{\\left(3 x \\right)} \\cos^{2}{\\left(x \\right)} \\cos{\\left(3 x \\right)}}{1920} + \\frac{293 x^{2} \\sin^{5}{\\left(x \\right)} \\sin^{2}{\\left(3 x \\right)} \\cos^{3}{\\left(x \\right)}}{320} + \\frac{797 x^{2} \\sin^{5}{\\left(x \\right)} \\cos^{3}{\\left(x \\right)} \\cos^{2}{\\left(3 x \\right)}}{1920} + \\frac{x^{2} \\sin^{4}{\\left(x \\right)} \\sin{\\left(3 x \\right)} \\cos^{4}{\\left(x \\right)} \\cos{\\left(3 x \\right)}}{2} + \\frac{289 x^{2} \\sin^{3}{\\left(x \\right)} \\sin^{2}{\\left(3 x \\right)} \\cos^{5}{\\left(x \\right)}}{640} + \\frac{529 x^{2} \\sin^{3}{\\left(x \\right)} \\cos^{5}{\\left(x \\right)} \\cos^{2}{\\left(3 x \\right)}}{960} + \\frac{103 x^{2} \\sin^{2}{\\left(x \\right)} \\sin{\\left(3 x \\right)} \\cos^{6}{\\left(x \\right)} \\cos{\\left(3 x \\right)}}{640} + \\frac{87 x^{2} \\sin{\\left(x \\right)} \\sin^{2}{\\left(3 x \\right)} \\cos^{7}{\\left(x \\right)}}{1120} + \\frac{877 x^{2} \\sin{\\left(x \\right)} \\cos^{7}{\\left(x \\right)} \\cos^{2}{\\left(3 x \\right)}}{4480} - \\frac{223 x^{2} \\sin{\\left(3 x \\right)} \\cos^{8}{\\left(x \\right)} \\cos{\\left(3 x \\right)}}{8960} - \\frac{6373541 x \\sin^{8}{\\left(x \\right)} \\sin^{2}{\\left(3 x \\right)}}{90316800} - \\frac{16188509 x \\sin^{8}{\\left(x \\right)} \\cos^{2}{\\left(3 x \\right)}}{90316800} + \\frac{496211 x \\sin^{7}{\\left(x \\right)} \\sin{\\left(3 x \\right)} \\cos{\\left(x \\right)} \\cos{\\left(3 x \\right)}}{1881600} - \\frac{698237 x \\sin^{6}{\\left(x \\right)} \\sin^{2}{\\left(3 x \\right)} \\cos^{2}{\\left(x \\right)}}{3225600} - \\frac{181313 x \\sin^{6}{\\left(x \\right)} \\cos^{2}{\\left(x \\right)} \\cos^{2}{\\left(3 x \\right)}}{3225600} + \\frac{187069 x \\sin^{5}{\\left(x \\right)} \\sin{\\left(3 x \\right)} \\cos^{3}{\\left(x \\right)} \\cos{\\left(3 x \\right)}}{806400} - \\frac{17579 x \\sin^{4}{\\left(x \\right)} \\sin^{2}{\\left(3 x \\right)} \\cos^{4}{\\left(x \\right)}}{430080} + \\frac{127829 x \\sin^{4}{\\left(x \\right)} \\cos^{4}{\\left(x \\right)} \\cos^{2}{\\left(3 x \\right)}}{430080} + \\frac{21181 x \\sin^{3}{\\left(x \\right)} \\sin{\\left(3 x \\right)} \\cos^{5}{\\left(x \\right)} \\cos{\\left(3 x \\right)}}{806400} + \\frac{118421 x \\sin^{2}{\\left(x \\right)} \\sin^{2}{\\left(3 x \\right)} \\cos^{6}{\\left(x \\right)}}{1075200} + \\frac{1273987 x \\sin^{2}{\\left(x \\right)} \\cos^{6}{\\left(x \\right)} \\cos^{2}{\\left(3 x \\right)}}{3225600} - \\frac{351661 x \\sin{\\left(x \\right)} \\sin{\\left(3 x \\right)} \\cos^{7}{\\left(x \\right)} \\cos{\\left(3 x \\right)}}{1881600} + \\frac{3523553 x \\sin^{2}{\\left(3 x \\right)} \\cos^{8}{\\left(x \\right)}}{30105600} + \\frac{7008091 x \\cos^{8}{\\left(x \\right)} \\cos^{2}{\\left(3 x \\right)}}{90316800} + \\frac{685113293 \\sin^{8}{\\left(x \\right)} \\sin{\\left(3 x \\right)} \\cos{\\left(3 x \\right)}}{9483264000} - \\frac{25227423 \\sin^{7}{\\left(x \\right)} \\sin^{2}{\\left(3 x \\right)} \\cos{\\left(x \\right)}}{87808000} + \\frac{59257739 \\sin^{7}{\\left(x \\right)} \\cos{\\left(x \\right)} \\cos^{2}{\\left(3 x \\right)}}{1580544000} - \\frac{374958533 \\sin^{6}{\\left(x \\right)} \\sin{\\left(3 x \\right)} \\cos^{2}{\\left(x \\right)} \\cos{\\left(3 x \\right)}}{677376000} - \\frac{4741173 \\sin^{5}{\\left(x \\right)} \\sin^{2}{\\left(3 x \\right)} \\cos^{3}{\\left(x \\right)}}{25088000} - \\frac{80174 \\sin^{5}{\\left(x \\right)} \\cos^{3}{\\left(x \\right)} \\cos^{2}{\\left(3 x \\right)}}{165375} - \\frac{14491 \\sin^{4}{\\left(x \\right)} \\sin{\\left(3 x \\right)} \\cos^{4}{\\left(x \\right)} \\cos{\\left(3 x \\right)}}{44100} - \\frac{68845 \\sin^{3}{\\left(x \\right)} \\cos^{5}{\\left(x \\right)} \\cos^{2}{\\left(3 x \\right)}}{110592} + \\frac{736675 \\sin^{2}{\\left(x \\right)} \\sin{\\left(3 x \\right)} \\cos^{6}{\\left(x \\right)} \\cos{\\left(3 x \\right)}}{1806336} - \\frac{5586327 \\sin{\\left(x \\right)} \\sin^{2}{\\left(3 x \\right)} \\cos^{7}{\\left(x \\right)}}{35123200} - \\frac{5624341 \\sin{\\left(x \\right)} \\cos^{7}{\\left(x \\right)} \\cos^{2}{\\left(3 x \\right)}}{158054400} - \\frac{8853091 \\sin{\\left(3 x \\right)} \\cos^{8}{\\left(x \\right)} \\cos{\\left(3 x \\right)}}{632217600} $$\n",
      "$$ \\infty $$\n",
      "0\n"
     ]
    }
   ],
   "source": [
    "x,y=symbols('x y')\n",
    "expr=x**7-x**2*((sin(x))**8)*((cos(3*x))**2)\n",
    "iexpr=integrate(expr,(x))\n",
    "lim_expr=limit(iexpr,x,oo)-iexpr.evalf(subs={x:0})\n",
    "min_expr=iexpr.subs(x,0)\n",
    "print('$$',latex(iexpr),'$$')\n",
    "print('$$',latex(lim_expr),'$$')\n",
    "print(min_expr)"
   ]
  },
  {
   "cell_type": "markdown",
   "id": "5cda9c43-6b24-4349-a9c2-5cdd50dc5bb1",
   "metadata": {},
   "source": [
    "$$ \\frac{x^{8}}{8} - \\frac{31 x^{3} \\sin^{8}{\\left(x \\right)} \\sin^{2}{\\left(3 x \\right)}}{768} - \\frac{13 x^{3} \\sin^{8}{\\left(x \\right)} \\cos^{2}{\\left(3 x \\right)}}{256} + \\frac{x^{3} \\sin^{7}{\\left(x \\right)} \\sin{\\left(3 x \\right)} \\cos{\\left(x \\right)} \\cos{\\left(3 x \\right)}}{16} - \\frac{49 x^{3} \\sin^{6}{\\left(x \\right)} \\sin^{2}{\\left(3 x \\right)} \\cos^{2}{\\left(x \\right)}}{192} - \\frac{7 x^{3} \\sin^{6}{\\left(x \\right)} \\cos^{2}{\\left(x \\right)} \\cos^{2}{\\left(3 x \\right)}}{64} - \\frac{7 x^{3} \\sin^{5}{\\left(x \\right)} \\sin{\\left(3 x \\right)} \\cos^{3}{\\left(x \\right)} \\cos{\\left(3 x \\right)}}{48} - \\frac{35 x^{3} \\sin^{4}{\\left(x \\right)} \\sin^{2}{\\left(3 x \\right)} \\cos^{4}{\\left(x \\right)}}{128} - \\frac{35 x^{3} \\sin^{4}{\\left(x \\right)} \\cos^{4}{\\left(x \\right)} \\cos^{2}{\\left(3 x \\right)}}{128} - \\frac{7 x^{3} \\sin^{3}{\\left(x \\right)} \\sin{\\left(3 x \\right)} \\cos^{5}{\\left(x \\right)} \\cos{\\left(3 x \\right)}}{48} - \\frac{7 x^{3} \\sin^{2}{\\left(x \\right)} \\sin^{2}{\\left(3 x \\right)} \\cos^{6}{\\left(x \\right)}}{64} - \\frac{49 x^{3} \\sin^{2}{\\left(x \\right)} \\cos^{6}{\\left(x \\right)} \\cos^{2}{\\left(3 x \\right)}}{192} + \\frac{x^{3} \\sin{\\left(x \\right)} \\sin{\\left(3 x \\right)} \\cos^{7}{\\left(x \\right)} \\cos{\\left(3 x \\right)}}{16} - \\frac{13 x^{3} \\sin^{2}{\\left(3 x \\right)} \\cos^{8}{\\left(x \\right)}}{256} - \\frac{31 x^{3} \\cos^{8}{\\left(x \\right)} \\cos^{2}{\\left(3 x \\right)}}{768} - \\frac{5219 x^{2} \\sin^{8}{\\left(x \\right)} \\sin{\\left(3 x \\right)} \\cos{\\left(3 x \\right)}}{26880} + \\frac{2067 x^{2} \\sin^{7}{\\left(x \\right)} \\sin^{2}{\\left(3 x \\right)} \\cos{\\left(x \\right)}}{4480} + \\frac{297 x^{2} \\sin^{7}{\\left(x \\right)} \\cos{\\left(x \\right)} \\cos^{2}{\\left(3 x \\right)}}{1120} - \\frac{181 x^{2} \\sin^{6}{\\left(x \\right)} \\sin{\\left(3 x \\right)} \\cos^{2}{\\left(x \\right)} \\cos{\\left(3 x \\right)}}{1920} + \\frac{293 x^{2} \\sin^{5}{\\left(x \\right)} \\sin^{2}{\\left(3 x \\right)} \\cos^{3}{\\left(x \\right)}}{320} + \\frac{797 x^{2} \\sin^{5}{\\left(x \\right)} \\cos^{3}{\\left(x \\right)} \\cos^{2}{\\left(3 x \\right)}}{1920} + \\frac{x^{2} \\sin^{4}{\\left(x \\right)} \\sin{\\left(3 x \\right)} \\cos^{4}{\\left(x \\right)} \\cos{\\left(3 x \\right)}}{2} + \\frac{289 x^{2} \\sin^{3}{\\left(x \\right)} \\sin^{2}{\\left(3 x \\right)} \\cos^{5}{\\left(x \\right)}}{640} + \\frac{529 x^{2} \\sin^{3}{\\left(x \\right)} \\cos^{5}{\\left(x \\right)} \\cos^{2}{\\left(3 x \\right)}}{960} + \\frac{103 x^{2} \\sin^{2}{\\left(x \\right)} \\sin{\\left(3 x \\right)} \\cos^{6}{\\left(x \\right)} \\cos{\\left(3 x \\right)}}{640} + \\frac{87 x^{2} \\sin{\\left(x \\right)} \\sin^{2}{\\left(3 x \\right)} \\cos^{7}{\\left(x \\right)}}{1120} + \\frac{877 x^{2} \\sin{\\left(x \\right)} \\cos^{7}{\\left(x \\right)} \\cos^{2}{\\left(3 x \\right)}}{4480} - \\frac{223 x^{2} \\sin{\\left(3 x \\right)} \\cos^{8}{\\left(x \\right)} \\cos{\\left(3 x \\right)}}{8960} - \\frac{6373541 x \\sin^{8}{\\left(x \\right)} \\sin^{2}{\\left(3 x \\right)}}{90316800} - \\frac{16188509 x \\sin^{8}{\\left(x \\right)} \\cos^{2}{\\left(3 x \\right)}}{90316800} + \\frac{496211 x \\sin^{7}{\\left(x \\right)} \\sin{\\left(3 x \\right)} \\cos{\\left(x \\right)} \\cos{\\left(3 x \\right)}}{1881600} - \\frac{698237 x \\sin^{6}{\\left(x \\right)} \\sin^{2}{\\left(3 x \\right)} \\cos^{2}{\\left(x \\right)}}{3225600} - \\frac{181313 x \\sin^{6}{\\left(x \\right)} \\cos^{2}{\\left(x \\right)} \\cos^{2}{\\left(3 x \\right)}}{3225600} + \\frac{187069 x \\sin^{5}{\\left(x \\right)} \\sin{\\left(3 x \\right)} \\cos^{3}{\\left(x \\right)} \\cos{\\left(3 x \\right)}}{806400} - \\frac{17579 x \\sin^{4}{\\left(x \\right)} \\sin^{2}{\\left(3 x \\right)} \\cos^{4}{\\left(x \\right)}}{430080} + \\frac{127829 x \\sin^{4}{\\left(x \\right)} \\cos^{4}{\\left(x \\right)} \\cos^{2}{\\left(3 x \\right)}}{430080} + \\frac{21181 x \\sin^{3}{\\left(x \\right)} \\sin{\\left(3 x \\right)} \\cos^{5}{\\left(x \\right)} \\cos{\\left(3 x \\right)}}{806400} + \\frac{118421 x \\sin^{2}{\\left(x \\right)} \\sin^{2}{\\left(3 x \\right)} \\cos^{6}{\\left(x \\right)}}{1075200} + \\frac{1273987 x \\sin^{2}{\\left(x \\right)} \\cos^{6}{\\left(x \\right)} \\cos^{2}{\\left(3 x \\right)}}{3225600} - \\frac{351661 x \\sin{\\left(x \\right)} \\sin{\\left(3 x \\right)} \\cos^{7}{\\left(x \\right)} \\cos{\\left(3 x \\right)}}{1881600} + \\frac{3523553 x \\sin^{2}{\\left(3 x \\right)} \\cos^{8}{\\left(x \\right)}}{30105600} + \\frac{7008091 x \\cos^{8}{\\left(x \\right)} \\cos^{2}{\\left(3 x \\right)}}{90316800} + \\frac{685113293 \\sin^{8}{\\left(x \\right)} \\sin{\\left(3 x \\right)} \\cos{\\left(3 x \\right)}}{9483264000} - \\frac{25227423 \\sin^{7}{\\left(x \\right)} \\sin^{2}{\\left(3 x \\right)} \\cos{\\left(x \\right)}}{87808000} + \\frac{59257739 \\sin^{7}{\\left(x \\right)} \\cos{\\left(x \\right)} \\cos^{2}{\\left(3 x \\right)}}{1580544000} - \\frac{374958533 \\sin^{6}{\\left(x \\right)} \\sin{\\left(3 x \\right)} \\cos^{2}{\\left(x \\right)} \\cos{\\left(3 x \\right)}}{677376000} - \\frac{4741173 \\sin^{5}{\\left(x \\right)} \\sin^{2}{\\left(3 x \\right)} \\cos^{3}{\\left(x \\right)}}{25088000} - \\frac{80174 \\sin^{5}{\\left(x \\right)} \\cos^{3}{\\left(x \\right)} \\cos^{2}{\\left(3 x \\right)}}{165375} - \\frac{14491 \\sin^{4}{\\left(x \\right)} \\sin{\\left(3 x \\right)} \\cos^{4}{\\left(x \\right)} \\cos{\\left(3 x \\right)}}{44100} - \\frac{68845 \\sin^{3}{\\left(x \\right)} \\cos^{5}{\\left(x \\right)} \\cos^{2}{\\left(3 x \\right)}}{110592} + \\frac{736675 \\sin^{2}{\\left(x \\right)} \\sin{\\left(3 x \\right)} \\cos^{6}{\\left(x \\right)} \\cos{\\left(3 x \\right)}}{1806336} - \\frac{5586327 \\sin{\\left(x \\right)} \\sin^{2}{\\left(3 x \\right)} \\cos^{7}{\\left(x \\right)}}{35123200} - \\frac{5624341 \\sin{\\left(x \\right)} \\cos^{7}{\\left(x \\right)} \\cos^{2}{\\left(3 x \\right)}}{158054400} - \\frac{8853091 \\sin{\\left(3 x \\right)} \\cos^{8}{\\left(x \\right)} \\cos{\\left(3 x \\right)}}{632217600} $$\n",
    "$$ \\infty $$"
   ]
  },
  {
   "cell_type": "code",
   "execution_count": 126,
   "id": "e57970d3-e98e-47b5-9bec-68933f11cfa1",
   "metadata": {},
   "outputs": [
    {
     "data": {
      "image/png": "[encoded data removed]",
      "text/plain": [
       "<matplotlib.figure.Figure at 0x247cfd30dd8>"
      ]
     },
     "metadata": {
      "needs_background": "light"
     },
     "output_type": "display_data"
    }
   ],
   "source": [
    "fig = plt.figure()\n",
    "ax = fig.add_subplot(111)\n",
    "\n",
    "x= np.linspace(-1*np.pi,1*np.pi,1024,endpoint=True)\n",
    "y1= x*np.power(x,5)\n",
    "ax.plot(x, y1, label='$xx^5$')\n",
    "\n",
    "y2= x*(np.power(x,7)-\\\n",
    "       np.power(x,2)*np.power(np.sin(x),8)*np.power(np.cos(3*x),2))\n",
    "ax.plot(x, y2, label='$x(x^7-x^2\\sin^8{x} \\cos^2{3x})$')\n",
    "\n",
    "# plt.axis('scaled')\n",
    "# plt.axis('equal')  \n",
    "plt.xlabel('$x_1$')\n",
    "plt.ylabel('$x_2$')\n",
    "plt.ylim(-.5,1.5)\n",
    "plt.xlim(-1.5,1.5)\n",
    "\n",
    "plt.legend(loc='upper right',\\\n",
    "           bbox_to_anchor=(1.48, 1.01),ncol=1)\n",
    "\n",
    "plt.show()"
   ]
  },
  {
   "cell_type": "markdown",
   "id": "b2f33964-717b-4cd6-89cc-ee7fe17c5f2d",
   "metadata": {},
   "source": [
    "($d$)$\\ddot{x}+(x-1)^4\\dot{x}^7+x^5=x^3\\sin^3x$   \n",
    "**Solution:**   \n",
    "Chose the Lyapunov function\n",
    "$$V=\\frac{1}{2}\\dot{x}^2+\\int_0^{x} (y^5-y^3\\sin^3y)dy$$\n",
    "From the figure below, we have $$V \\geq 0 $$\n",
    "Thus,\n",
    "$$\n",
    "\\begin{equation}\n",
    "\\begin{array}{rl}\n",
    "\\dot{V}&= \\ddot{x}\\dot{x}+(x^5+x^3\\sin^3x)\\dot{x}\\\\\n",
    "&= -(x-1)^4\\dot{x}^8-x^5\\dot{x}-\\dot{x}x^3\\sin^3x+x^5\\dot{x}+\\dot{x}x^3\\sin^3x \\\\\n",
    "&= -(x-1)^4\\dot{x}^8 \\\\\n",
    "&\\leq 0\n",
    "\\end{array}\n",
    "\\end{equation}\n",
    "$$\n",
    "Due to\n",
    "$$ \\lim\\limits_{|x|\\to\\infty}V=\\infty$$  \n",
    "The equilibrium point origin is globally asymptoticall stable."
   ]
  },
  {
   "cell_type": "code",
   "execution_count": 8,
   "id": "eb28d516-731f-4777-b6c2-100cd0d775c0",
   "metadata": {},
   "outputs": [
    {
     "name": "stdout",
     "output_type": "stream",
     "text": [
      "$$ \\frac{x^{6}}{6} + x^{3} \\sin^{2}{\\left(x \\right)} \\cos{\\left(x \\right)} + \\frac{2 x^{3} \\cos^{3}{\\left(x \\right)}}{3} - \\frac{7 x^{2} \\sin^{3}{\\left(x \\right)}}{3} - 2 x^{2} \\sin{\\left(x \\right)} \\cos^{2}{\\left(x \\right)} - \\frac{14 x \\sin^{2}{\\left(x \\right)} \\cos{\\left(x \\right)}}{3} - \\frac{40 x \\cos^{3}{\\left(x \\right)}}{9} + \\frac{122 \\sin^{3}{\\left(x \\right)}}{27} + \\frac{40 \\sin{\\left(x \\right)} \\cos^{2}{\\left(x \\right)}}{9} $$\n",
      "$$ \\infty $$\n"
     ]
    }
   ],
   "source": [
    "x,y=symbols('x y')\n",
    "expr=x**5-x**3*((sin(x))**3)\n",
    "iexpr=integrate(expr,(x))\n",
    "lim_expr=limit(iexpr,x,oo)-iexpr.evalf(subs={x:0})\n",
    "print('$$',latex(iexpr),'$$')\n",
    "print('$$',latex(lim_expr),'$$')"
   ]
  },
  {
   "cell_type": "markdown",
   "id": "7c1d7515-abf2-4a6a-b493-e8f843b5d837",
   "metadata": {},
   "source": [
    "$$ \\frac{x^{6}}{6} + x^{3} \\sin^{2}{\\left(x \\right)} \\cos{\\left(x \\right)} + \\frac{2 x^{3} \\cos^{3}{\\left(x \\right)}}{3} - \\frac{7 x^{2} \\sin^{3}{\\left(x \\right)}}{3} - 2 x^{2} \\sin{\\left(x \\right)} \\cos^{2}{\\left(x \\right)} - \\frac{14 x \\sin^{2}{\\left(x \\right)} \\cos{\\left(x \\right)}}{3} - \\frac{40 x \\cos^{3}{\\left(x \\right)}}{9} + \\frac{122 \\sin^{3}{\\left(x \\right)}}{27} + \\frac{40 \\sin{\\left(x \\right)} \\cos^{2}{\\left(x \\right)}}{9} $$\n",
    "$$ \\infty $$"
   ]
  },
  {
   "cell_type": "code",
   "execution_count": null,
   "id": "2702fc2c-7266-4d0d-849f-1ba46ea35894",
   "metadata": {},
   "outputs": [],
   "source": [
    "x,y=symbols('x y')\n",
    "expr=sin()\n",
    "iexpr=integrate(expr,(x))\n",
    "lim_expr=limit(iexpr,x,oo)-iexpr.evalf(subs={x:0})\n",
    "print('$$',latex(iexpr),'$$')\n",
    "print('$$',latex(lim_expr),'$$')"
   ]
  },
  {
   "cell_type": "code",
   "execution_count": 145,
   "id": "79785a4a-4b7e-4612-ab7e-456186569b2f",
   "metadata": {},
   "outputs": [
    {
     "data": {
      "image/png": "[encoded data removed]",
      "text/plain": [
       "<matplotlib.figure.Figure at 0x247fcdf53c8>"
      ]
     },
     "metadata": {
      "needs_background": "light"
     },
     "output_type": "display_data"
    }
   ],
   "source": [
    "fig = plt.figure()\n",
    "ax = fig.add_subplot(111)\n",
    "\n",
    "x= np.linspace(-1*np.pi,1*np.pi,1024,endpoint=True)\n",
    "# y1= np.power(x,5)-np.power(x,3)*np.power(np.sin(x),3)\n",
    "# ax.plot(x, y1, label='$xx^5$')\n",
    "\n",
    "y2= np.power(x,5)-\\\n",
    "       np.power(x,3)*np.power(np.sin(x),3)\n",
    "ax.plot(x, y2, label='$x^5-x^3\\sin^3x$')\n",
    "\n",
    "# plt.axis('scaled')\n",
    "# plt.axis('equal')  \n",
    "plt.xlabel('$x_1$')\n",
    "plt.ylabel('$x_2$')\n",
    "plt.ylim(-.5,1.5)\n",
    "plt.xlim(-1.5,1.5)\n",
    "\n",
    "plt.legend(loc='upper right',\\\n",
    "           bbox_to_anchor=(1.35, 1.01),ncol=1)\n",
    "\n",
    "plt.show()"
   ]
  },
  {
   "cell_type": "markdown",
   "id": "a7d81061-c889-47ce-a2fa-37d88a1bb2d9",
   "metadata": {},
   "source": [
    "($e$)$\\ddot{x}+(x-1)^2\\dot{x}^7+x=\\sin{(\\pi x/2)}$  \n",
    "\n",
    "**Solution:**   \n",
    "Chose the Lyapunov function\n",
    "$$V=\\frac{1}{2}\\dot{x}^2+\\int_0^{x} (y-\\sin{(\\pi y/2)}dy+c$$\n",
    "where $c$ is a constant number.\n",
    "Due to $V \\geq 0 $.      \n",
    "Thus, using python to solve the equation $V$   \n",
    "\n"
   ]
  },
  {
   "cell_type": "code",
   "execution_count": 3,
   "id": "1c96ba12-7ad8-4f2d-8ab5-43262f2475bb",
   "metadata": {},
   "outputs": [
    {
     "name": "stdout",
     "output_type": "stream",
     "text": [
      "$$ \\cos{\\left(x \\right)} $$\n",
      "$$ \\left\\langle -2.0, 0\\right\\rangle $$\n",
      "1\n"
     ]
    }
   ],
   "source": [
    "x,y=symbols('x y')\n",
    "expr=-sin(x)\n",
    "iexpr=integrate(expr,(x))\n",
    "lim_expr=limit(iexpr,x,oo)-iexpr.evalf(subs={x:0})\n",
    "min_expr=iexpr.subs(x,0)\n",
    "print('$$',latex(iexpr),'$$')\n",
    "print('$$',latex(lim_expr),'$$')\n",
    "print(min_expr)"
   ]
  },
  {
   "cell_type": "markdown",
   "id": "b62c3d59-7798-4af6-be1b-ef95dedf4bd5",
   "metadata": {},
   "source": [
    "$$ \\cos{\\left(x \\right)} $$\n"
   ]
  },
  {
   "cell_type": "markdown",
   "id": "4ec1a693-478b-45dc-acac-13cbbefc4fe7",
   "metadata": {},
   "source": [
    "We have\n",
    "$$ V=\\frac{1}{2}\\dot{x}^2+\\frac{x^{2}}{2} + \\frac{2 \\cos{\\left(\\frac{\\pi x}{2} \\right)}}{\\pi}+c $$\n",
    "$$ V(0)=0$$\n",
    "$$ \\Rightarrow c=\\frac{2}{\\pi}$$\n",
    "\n",
    "\n",
    "$$\n",
    "\\begin{equation}\n",
    "\\begin{array}{}\n",
    "\\dot{V}&=\\ddot{x}\\dot{x}+\\dot{x} (x-\\sin{(\\pi x/2)})\\\\\n",
    "&=-(x-1)^2\\dot{x}^8 \\\\\n",
    "&\\leq 0\n",
    "\\end{array}\n",
    "\\end{equation}\n",
    "$$\n",
    "$$ \\lim\\limits_{|x|\\to\\infty}V=\\infty$$ \n",
    "\n",
    "The system has 3 equilibrium points $((\\pm 1, 0),0)$.    \n",
    "When $(x,\\dot{x})=(\\pm 1=0, 0)$, $\\ddot{x}=0$, the system is globally asymptoticall stable.\n",
    "\n",
    "When $(x,\\dot{x})=(0, 0)$, according to the figure we have $x\\dot{x}<0$, the equilibrium point origin is unstable."
   ]
  },
  {
   "cell_type": "code",
   "execution_count": 25,
   "id": "d6fe37c3-2eaa-4280-a0ad-0210dff1ce42",
   "metadata": {},
   "outputs": [
    {
     "data": {
      "image/png": "[encoded data removed]",
      "text/plain": [
       "<matplotlib.figure.Figure at 0x241e6f42b70>"
      ]
     },
     "metadata": {
      "needs_background": "light"
     },
     "output_type": "display_data"
    }
   ],
   "source": [
    "fig = plt.figure()\n",
    "ax = fig.add_subplot(111)\n",
    "\n",
    "x= np.linspace(-1*np.pi,1*np.pi,1024,endpoint=True)\n",
    "\n",
    "y2= x-np.sin(np.pi*x/2)\n",
    "ax.plot(x, y2, label='$x-\\sin{(\\pi x/2)}$')\n",
    "\n",
    "y1= (x*x)/2-2*np.cos(np.pi*x/2)/np.pi\n",
    "ax.plot(x, y1, label='$a$')\n",
    "\n",
    "# plt.axis('scaled')\n",
    "# plt.axis('equal')  \n",
    "plt.xlabel('$x_1$')\n",
    "plt.ylabel('$x_2$')\n",
    "plt.ylim(-1,1)\n",
    "plt.xlim(-5,5)\n",
    "\n",
    "plt.legend(loc='upper right',\\\n",
    "           bbox_to_anchor=(1.35, 1.01),ncol=1)\n",
    "\n",
    "plt.show()"
   ]
  },
  {
   "cell_type": "markdown",
   "id": "142948ac-8fa7-4eab-8bc6-e0056c55c5c6",
   "metadata": {},
   "source": [
    "#### Problem 3:   \n",
    "Determine regions of attraction of the pendulum, using as Lyapunov functions the pendulum's total energy, and the modified Lyapunov function of p67. Comment on the two results.    \n",
    "\n",
    "**Solution:**   \n",
    "The system is described by\n",
    "$$\\ddot{\\theta}+\\dot{\\theta}+\\sin{\\theta}=0$$   \n",
    "Lyapunov functions are  \n",
    "$$\n",
    "\\begin{equation}\n",
    "\\tag{3-1}\n",
    "\\left\\{\n",
    "    \\begin{array}{}\n",
    "        V_1(x)= (1-\\cos{\\theta})+\\frac{\\dot{\\theta}^2}{2} \\\\\n",
    "        V_2(x)= \\frac{1}{2} \\dot{\\theta}^2+\\frac{1}{2}(\\dot{\\theta}+\\theta)^2+2(1-\\cos{\\theta}) \n",
    "    \\end{array}\n",
    "\\right.\n",
    "\\end{equation}\n",
    "$$\n",
    "Obviously,\n",
    "$$\\lim\\limits_{|\\theta|\\to\\infty}V_{1,2}=\\infty$$  \n",
    "Correspondingly,\n",
    "$$\n",
    "\\begin{equation}\n",
    "\\tag{3-2}\n",
    "\\left\\{\n",
    "    \\begin{array}{}\n",
    "        \\dot{V}_1(x)= -\\dot{\\theta}^2 \\\\\n",
    "        \\dot{V}_2(x)= -(\\dot{\\theta}^2+\\theta \\sin{\\theta}) \n",
    "    \\end{array}\n",
    "\\right.\n",
    "\\end{equation}\n",
    "$$\n",
    "For $V_1$, $$\\dot{V}_1(x)\\le 0$$ while $|x|\\neq 0$. Thus, $\\dot{V}_1(x)$ is negative semi-definite. The system is local stable at origin.    \n",
    "\n",
    "For $V_2$, let $\\theta \\sin{\\theta}=0$, $\\theta=0,\\pi,2\\pi...n\\pi$\n",
    "1. $\\theta \\in (\\pm2k\\pi,\\pm(2k+1)\\pi) \\Rightarrow \\theta \\sin{\\theta} >0, \\dot{V}_2(x) \\leq 0 $.   \n",
    "The system is stable at those equilibrum points.\n",
    "2. $\\theta \\in (\\pm(2k+1)\\pi,\\pm 2(k+1)\\pi) \\Rightarrow \\theta \\sin{\\theta} <0, \\exists \\theta: V_2>0$.   \n",
    "The system is unstable at those equilibrum points.    \n",
    "(*where k is a positive integer.*)"
   ]
  },
  {
   "cell_type": "code",
   "execution_count": 29,
   "id": "e562279f-8355-4978-bff9-e4488c0bc152",
   "metadata": {},
   "outputs": [],
   "source": [
    "# x,y=symbols('x y')\n",
    "# expr=x**5-x**3*((sin(x))**3)\n",
    "# iexpr=integrate(expr,(x))\n",
    "# lim_expr=limit(iexpr,x,oo)-iexpr.evalf(subs={x:0})\n",
    "# print('$$',latex(iexpr),'$$')\n",
    "# print('$$',latex(lim_expr),'$$')"
   ]
  },
  {
   "cell_type": "code",
   "execution_count": 4,
   "id": "9b46f424-a612-4a47-bb01-843c94b3e179",
   "metadata": {},
   "outputs": [
    {
     "data": {
      "application/vnd.jupyter.widget-view+json": {
       "model_id": "c19fe044722e4f2f9113f06db3363829",
       "version_major": 2,
       "version_minor": 0
      },
      "text/plain": [
       "interactive(children=(FloatSlider(value=15.0, description='a', max=15.0), Output()), _dom_classes=('widget-int…"
      ]
     },
     "metadata": {},
     "output_type": "display_data"
    },
    {
     "data": {
      "text/plain": [
       "<function __main__.lim(a)>"
      ]
     },
     "execution_count": 4,
     "metadata": {},
     "output_type": "execute_result"
    }
   ],
   "source": [
    "from ipywidgets import interact, interactive, fixed, interact_manual\n",
    "import ipywidgets as widgets\n",
    "\n",
    "def lim(a):\n",
    "    fig = plt.figure()\n",
    "    ax = fig.add_subplot(111)\n",
    "\n",
    "    x= np.linspace(-12*np.pi,12*np.pi,1024,endpoint=True)\n",
    "\n",
    "    y1= x*np.sin(x)\n",
    "    ax.plot(x, y1, label='$\\\\theta\\sin{\\\\theta}$')\n",
    "\n",
    "    y2=x*0\n",
    "    ax.plot(x, y2, label='$x=0$')\n",
    "    # plt.axis('scaled')\n",
    "    # plt.axis('equal')  \n",
    "    plt.xlabel('$\\\\theta$')\n",
    "    plt.ylabel('y$')\n",
    "    plt.ylim(-20,20)\n",
    "    plt.legend(loc='upper right',\\\n",
    "               bbox_to_anchor=(1.25, 1.01),ncol=1)\n",
    "    plt.xlim(-a,a)\n",
    "    plt.show()\n",
    "    \n",
    "interact(lim, a = widgets.FloatSlider(value=15, min=0, max=15,step=0.1))"
   ]
  },
  {
   "cell_type": "code",
   "execution_count": 6,
   "id": "a1bb22d9-5b73-4fd7-9c54-62f77ca8b17d",
   "metadata": {},
   "outputs": [
    {
     "data": {
      "application/vnd.jupyter.widget-view+json": {
       "model_id": "ff01af2a3f524b319e6d5b3a91949904",
       "version_major": 2,
       "version_minor": 0
      },
      "text/plain": [
       "interactive(children=(FloatSlider(value=6.283185307179586, description='thta', max=10.0, step=0.5), Output()),…"
      ]
     },
     "metadata": {},
     "output_type": "display_data"
    },
    {
     "data": {
      "text/plain": [
       "<function __main__.func(thta)>"
      ]
     },
     "execution_count": 6,
     "metadata": {},
     "output_type": "execute_result"
    }
   ],
   "source": [
    "# %matplotlib notebook\n",
    "# # plt.switch_backend(notebook)\n",
    "# %matplotlib notebook\n",
    "# import numpy as np\n",
    "# import matplotlib.pyplot as plt\n",
    "# from mpl_toolkits.mplot3d import Axes3D\n",
    "from mpl_toolkits import mplot3d\n",
    "import matplotlib.cm as cm\n",
    "\n",
    "#creating grid\n",
    "def func(thta):\n",
    "    fig = plt.figure()\n",
    "    ax = fig.add_subplot(111, projection='3d')\n",
    "    \n",
    "    x = np.linspace(-thta,thta,100)\n",
    "    y = np.linspace(-thta,thta,100)\n",
    "    x,y = np.meshgrid(x,y)\n",
    "    z = -y*y-x*np.sin(x)\n",
    "    \n",
    "    ax.plot_surface(x, y, z,alpha=0.8, rstride=1, cstride=1,\n",
    "                cmap='viridis', edgecolor='none')\n",
    "    \n",
    "#     cset = ax.contourf(x, y, z, zdir='z', offset=-150, cmap=cm.warmcool)\n",
    "#     cset = ax.contourf(x, y, z, zdir='x', offset=-15, cmap=cm.coolwarm)\n",
    "    cset = ax.contourf(x, y, z, zdir='y', offset=thta, cmap=cm.plasma)\n",
    "    \n",
    "    ax.set_xlabel('$\\\\theta$')\n",
    "    ax.set_ylabel('$\\dot{\\\\theta}$')\n",
    "    ax.set_zlabel('$\\dot{V}$')\n",
    "    ax.set_xlim(-thta,thta)\n",
    "    ax.set_ylim(-thta,thta)\n",
    "    ax.set_zlim(-thta*thta,5)\n",
    "    plt.show()\n",
    "    \n",
    "interact(func, thta = widgets.FloatSlider(value=2*np.pi, min=0, max=10,step=0.5))\n"
   ]
  },
  {
   "cell_type": "code",
   "execution_count": 10,
   "id": "4c93d08c-84bf-4d6d-92f5-3efd93870d41",
   "metadata": {},
   "outputs": [
    {
     "data": {
      "application/vnd.jupyter.widget-view+json": {
       "model_id": "c05d105c5a294b349efe806e724b7bf2",
       "version_major": 2,
       "version_minor": 0
      },
      "text/plain": [
       "interactive(children=(FloatSlider(value=10.0, description='a', max=10.0), Output()), _dom_classes=('widget-int…"
      ]
     },
     "metadata": {},
     "output_type": "display_data"
    },
    {
     "data": {
      "text/plain": [
       "<function __main__.lim(a)>"
      ]
     },
     "execution_count": 10,
     "metadata": {},
     "output_type": "execute_result"
    }
   ],
   "source": [
    "# from ipywidgets import interact, interactive, fixed, interact_manual\n",
    "# import ipywidgets as widgets\n",
    "import pylab as plb\n",
    "\n",
    "show = 1\n",
    "\n",
    "def lim(a):\n",
    "    if show==0:\n",
    "        den = 1.5\n",
    "        ylm = 7\n",
    "    elif show ==1:\n",
    "        den = 5\n",
    "        ylm = 2\n",
    "    x1values, x2values = plb.meshgrid(np.linspace(-10, 10, 20), \\\n",
    "                                      np.linspace(-10, 10, 20), \\\n",
    "                                      sparse=False)\n",
    "    x1dot = x2values\n",
    "    x2dot = -x2values*x2values-np.sin(x1values)\n",
    "    plb.streamplot(x1values, x2values, x1dot, x2dot, \\\n",
    "                   color='royalblue' , density=den)# density=5\n",
    "    plb.xlabel('$\\\\theta$')\n",
    "    plb.ylabel('$\\dot{\\\\theta}$')\n",
    "    plb.ylim(-ylm,ylm)\n",
    "    plb.xlim(-a,a)\n",
    "    # plb.ylim(-2,2)\n",
    "    # plb.xlim(-5,5)\n",
    "    # interact(plot_func, freq = widgets.FloatSlider(value=2.5, min=1, \n",
    "\n",
    "    plb.show()\n",
    "    \n",
    "interact(lim, a = widgets.FloatSlider(value=10, min=0, max=10,step=0.1))"
   ]
  },
  {
   "cell_type": "markdown",
   "id": "18658c33-66de-47f8-962f-68c87f477a7f",
   "metadata": {},
   "source": [
    "#### Problem4:     \n",
    "Show that if symmetric p.d. matrices P and Q exist such that  \n",
    "$$ A^T P+P A + 2\\lambda P = -Q $$  \n",
    "then all the eigenvalues of A have a real part strictly less than $-\\lambda$.    \n",
    "**Solution:**     \n",
    "$$\n",
    "\\begin{equation}\n",
    "\\begin{array}{}\n",
    "    A^TP+\\lambda PA+PA + 2\\lambda P = -Q \\\\\n",
    "    (A^T+\\lambda I)P + P(A+\\lambda I) = -Q\n",
    "\\end{array}\n",
    "\\end{equation}\n",
    "$$\n",
    "Considering P,Q are p.d. matrices, the system $\\dot{x}=(A+\\lambda I) x$ is stable.   \n",
    "Therefore,\n",
    "$$det(\\omega I -(A+\\lambda I)) = det((\\omega-\\lambda)I -A)=0$$\n",
    "Thus,  \n",
    "$$ Re(\\omega)<0 \\Rightarrow Re(\\omega-\\lambda)<-\\lambda$$\n",
    "Where $Re(\\omega-\\lambda)$ reprents the eigenvalues of A."
   ]
  },
  {
   "cell_type": "markdown",
   "id": "a07972e8-6b71-4382-923d-6a94a929463e",
   "metadata": {},
   "source": [
    "#### Problem5:    \n",
    "Find a quadratic Lyapunov function for the linear system    \n",
    "$$\n",
    "\\begin{equation}\n",
    "\\dot{x}=\n",
    "\\begin{bmatrix}\n",
    "    -2 & 0 \\\\\n",
    "    4  & -2\n",
    "\\end{bmatrix}\n",
    "x\n",
    "\\end{equation}\n",
    "$$"
   ]
  },
  {
   "cell_type": "markdown",
   "id": "da709171-8132-48be-b6f8-1eac3a8cace3",
   "metadata": {},
   "source": [
    "**Solution:**    \n",
    "The Lyapunov equation of the system defined as\n",
    "$$ A^T P+P A = -Q $$ \n",
    "When\n",
    "$$\n",
    "\\begin{equation}\n",
    "A=\n",
    "\\begin{bmatrix}\n",
    "    -2 & 0 \\\\\n",
    "    4  & -2\n",
    "\\end{bmatrix}\n",
    "\\text{   and    }\n",
    "Q=\n",
    "\\begin{bmatrix}\n",
    "    1 & 0 \\\\\n",
    "    0  & 1\n",
    "\\end{bmatrix}\n",
    "\\end{equation}\n",
    "$$"
   ]
  },
  {
   "cell_type": "markdown",
   "id": "58d2d0a8-944a-4563-a342-f401abbefe9e",
   "metadata": {},
   "source": [
    "$$\n",
    "\\begin{equation}\n",
    "\\begin{bmatrix}\n",
    "    -2 & 4 \\\\\n",
    "    0  & -2\n",
    "\\end{bmatrix}\n",
    "P+P\n",
    "\\begin{bmatrix}\n",
    "    -2  &  0  \\\\\n",
    "    4   &  -2\n",
    "\\end{bmatrix}\n",
    "=\n",
    "\\begin{bmatrix}\n",
    "    -1  &  0 \\\\\n",
    "     0  &  -1\n",
    "\\end{bmatrix}\n",
    "\\end{equation}\n",
    "$$  \n",
    "\n",
    "$$\n",
    "\\begin{equation}\n",
    "P=\n",
    "\\begin{bmatrix}\n",
    "    \\frac{3}{4} & \\frac{1}{4} \\\\\n",
    "    \\frac{1}{4}  & \\frac{1}{4}\n",
    "\\end{bmatrix}\n",
    "\\end{equation}\n",
    "$$"
   ]
  },
  {
   "cell_type": "markdown",
   "id": "04e7ec95-601f-4925-8bf1-80a3efd2db7b",
   "metadata": {},
   "source": [
    "The matrix P is positive definite, and therefore the system is globally asymptotically stable. The Lyapunov function of the system is \n",
    "$$ \n",
    "V = x^TPx =\n",
    "\\begin{matrix}x_{1} \\left(0.75 x_{1} + 0.25 x_{2}\\right) + x_{2} \\left(0.25 x_{1} + 0.25 x_{2}\\right)\\end{matrix} $$"
   ]
  },
  {
   "cell_type": "code",
   "execution_count": 23,
   "id": "6cccee2a-247d-43a3-a4b5-a8cdacd55067",
   "metadata": {},
   "outputs": [
    {
     "name": "stdout",
     "output_type": "stream",
     "text": [
      "$$ \\left[\\begin{matrix}- 4 x_{0 0} + 4 x_{0 1} + 4 x_{1 0} & - 4 x_{0 1} + 4 x_{1 1}\\\\- 4 x_{1 0} + 4 x_{1 1} & - 4 x_{1 1}\\end{matrix}\\right] = \\left[\\begin{matrix}-1 & 0\\\\0 & -1\\end{matrix}\\right] $$\n",
      "$$ \\left\\{ x_{0 0} : \\frac{3}{4}, \\  x_{0 1} : \\frac{1}{4}, \\  x_{1 0} : \\frac{1}{4}, \\  x_{1 1} : \\frac{1}{4}\\right\\} $$\n"
     ]
    }
   ],
   "source": [
    "# init_printing(use_unicode=True)\n",
    "x=Matrix(symarray('x',(2,2)))\n",
    "A = Matrix([[-2,0],[4,-2]])\n",
    "U = eye(2)\n",
    "expr=Eq(A.T*x+x*A,-U)\n",
    "result=solve(expr,x)\n",
    "print('$$',latex(expr),'$$')\n",
    "print('$$',latex(result),'$$')"
   ]
  },
  {
   "cell_type": "markdown",
   "id": "071a9a1d-5512-4c7a-a539-60816bbfa4ad",
   "metadata": {},
   "source": [
    "$$ \\left[\\begin{matrix}- 4 x_{0 0} + 4 x_{0 1} + 4 x_{1 0} & - 4 x_{0 1} + 4 x_{1 1}\\\\- 4 x_{1 0} + 4 x_{1 1} & - 4 x_{1 1}\\end{matrix}\\right] = \\left[\\begin{matrix}-1 & 0\\\\0 & -1\\end{matrix}\\right] $$\n",
    "$$ \\left\\{ x_{0 0} : \\frac{3}{4}, \\  x_{0 1} : \\frac{1}{4}, \\  x_{1 0} : \\frac{1}{4}, \\  x_{1 1} : \\frac{1}{4}\\right\\} $$"
   ]
  },
  {
   "cell_type": "code",
   "execution_count": 35,
   "id": "3ae46041-352c-4a2b-b3c4-1928c18b57c1",
   "metadata": {},
   "outputs": [
    {
     "name": "stdout",
     "output_type": "stream",
     "text": [
      "$$ \\left[\\begin{matrix}0.75 & 0.25\\\\0.25 & 0.25\\end{matrix}\\right] $$\n",
      "$$ \\left[\\begin{matrix}x_{0} \\left(0.75 x_{0} + 0.25 x_{1}\\right) + x_{1} \\left(0.25 x_{0} + 0.25 x_{1}\\right)\\end{matrix}\\right] $$\n"
     ]
    }
   ],
   "source": [
    "P = Matrix([[3/4,1/4],[1/4,1/4]])\n",
    "x = Matrix(symarray('x',2))\n",
    "print('$$',latex(P),'$$')\n",
    "# print('$$',latex(x.T),'$$')\n",
    "print('$$',latex(x.T*P*x),'$$')"
   ]
  },
  {
   "cell_type": "markdown",
   "id": "c05b5a90-e2eb-4f6c-a9dc-acf1b484c14c",
   "metadata": {},
   "source": [
    "$$ \\left[\\begin{matrix}x_{0} \\left(0.75 x_{0} + 0.25 x_{1}\\right) + x_{1} \\left(0.25 x_{0} + 0.25 x_{1}\\right)\\end{matrix}\\right] $$"
   ]
  }
 ],
 "metadata": {
  "kernelspec": {
   "display_name": "Python 3",
   "language": "python",
   "name": "python3"
  },
  "language_info": {
   "codemirror_mode": {
    "name": "ipython",
    "version": 3
   },
   "file_extension": ".py",
   "mimetype": "text/x-python",
   "name": "python",
   "nbconvert_exporter": "python",
   "pygments_lexer": "ipython3",
   "version": "3.6.8"
  }
 },
 "nbformat": 4,
 "nbformat_minor": 5
}
