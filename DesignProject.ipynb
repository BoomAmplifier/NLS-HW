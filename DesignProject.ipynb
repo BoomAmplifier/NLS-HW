{
 "cells": [
  {
   "cell_type": "markdown",
   "id": "42ee92ae-45d9-4b5a-bf07-c3387e22b5b4",
   "metadata": {},
   "source": [
    "# **ECE 7420 Design Project** \n",
    "\n",
    "> Instructor: Dr. Le Yi Wang  \n",
    "> **Solutions given by Yuqi Wang**   \n",
    "> Email: he1173@wayne.edu\n",
    "> Date: 12.13.2021\n",
    "\n",
    "## Descriptions\n",
    "- Source codes are and will be uploaded and updated to [Github repo](https://github.com/BoomAmplifier/NLS-HW.git).  \n",
    "- *Jupyter Notebook* and *python3* are used in the solutions."
   ]
  },
  {
   "cell_type": "markdown",
   "id": "117290cd-c4c1-42d7-8887-1e74d01b60a3",
   "metadata": {},
   "source": [
    "## Solutions   \n",
    "#### Problem 1: \n",
    "Consider a plant with input $u$ and output $x$\n",
    "$$\\ddot{x}+(2+\\cos{x})\\dot{x}^3-\\sin{x}=u$$\n",
    "1. Derive a state space model for the system. Note:Please include both the state equation and output equation.\n",
    "2. Consider the open-loop system $u=0$.\n",
    "    - Calculate ALL the equilibrium points.\n",
    "    - Study the stability of (ALL) the equilibrium points of the open-loop system by using the following methods:\n",
    "        - Intuitive analysis\n",
    "        - Local linearization\n",
    "        - Lyapunov functions\n",
    "    - Perform simulation to verify your conclusions. Please make sure that you cover different cases. Use at least two typical equilibrium points to demonstrate your results.\n",
    "3. Design a linear feedback $u=-Kx$ to make the origin (0,0) globally asymptotically stable.\n",
    "    - Design such a controller.\n",
    "    - Verify stability by theoretical analysis, such as Lyapunov functions and/or Invariant Set Theorem.\n",
    "    - Perform simulation to demonstrate the stability of the closed-loop system."
   ]
  },
  {
   "cell_type": "markdown",
   "id": "de41781b-7dd0-4ef4-9443-4e22039ec4fb",
   "metadata": {},
   "source": [
    "**Solution:**  \n",
    "1. Let\n",
    "$$\\begin{equation}\n",
    "\\left\\{\n",
    "\\begin{matrix}\n",
    "x_1=x \\\\\n",
    "x_2=\\dot{x}\n",
    "\\end{matrix}\n",
    "\\right.\n",
    "\\end{equation}$$\n",
    "We have   \n",
    "$$\\begin{equation}\n",
    "\\left\\{\n",
    "\\begin{array}{rCl}\n",
    "\\dot{x_1}=&x_2 \\\\\n",
    "\\dot{x_2}=&\\sin{x_1}-(2+\\cos{x_1}){x_2}^3+u\n",
    "\\end{array}\n",
    "\\right.\n",
    "\\end{equation}$$\n",
    "$$y=x_1$$"
   ]
  },
  {
   "cell_type": "markdown",
   "id": "2387723b-44e2-4b8e-a73b-d8d2c739f46f",
   "metadata": {},
   "source": [
    "2. When $u=0$, E.P. are\n",
    "$$\\begin{equation}\n",
    "\\left\\{\n",
    "\\begin{array}{rCl}\n",
    "x_1&=& k\\pi  \\\\\n",
    "x_2&=& 0\n",
    "\\end{array}\n",
    "\\right.\n",
    "\\end{equation}\n",
    "$$\n",
    "\n",
    "    - Intuitive analysis\n",
    "    \n",
    "    Since $1 \\leq 2+\\cos{x_1} \\leq 3$, $-1 \\sin{x_1} \\leq 1 $,"
   ]
  },
  {
   "cell_type": "code",
   "execution_count": null,
   "id": "f145ffda-8886-40da-97e7-a7997c890465",
   "metadata": {},
   "outputs": [],
   "source": []
  }
 ],
 "metadata": {
  "kernelspec": {
   "display_name": "Python 3",
   "language": "python",
   "name": "python3"
  },
  "language_info": {
   "codemirror_mode": {
    "name": "ipython",
    "version": 3
   },
   "file_extension": ".py",
   "mimetype": "text/x-python",
   "name": "python",
   "nbconvert_exporter": "python",
   "pygments_lexer": "ipython3",
   "version": "3.6.8"
  }
 },
 "nbformat": 4,
 "nbformat_minor": 5
}
