{
 "cells": [
  {
   "cell_type": "markdown",
   "id": "2ba2b464-c19f-44a0-98d6-1bae4861babe",
   "metadata": {},
   "source": [
    "# **HW4 for Nonlinear Control Systems** \n",
    "\n",
    "> Instructor: Dr. Le Yi Wang  \n",
    "> **Solutions given by Yuqi Wang**   \n",
    "> Email: he1173@wayne.edu     \n",
    "> Date: 10.25.2021\n",
    "\n",
    "## Descriptions\n",
    "- Source codes are and will be uploaded and updated to [Github repo](https://github.com/BoomAmplifier/NLS-HW.git).  \n",
    "- *Jupyter Notebook* and *python3* are used in the solutions."
   ]
  },
  {
   "cell_type": "markdown",
   "id": "ab2549d4-8e03-4746-94df-ccd8b1d6713c",
   "metadata": {},
   "source": [
    "## Solutions   \n",
    "#### Problem 1: \n",
    "Consider the system   \n",
    "$$\\dot{x}=Ax \\qquad y=c^T x$$    \n",
    "Use the invariant set theorem to show that if the system is observable, and if there exists a symmetric *p.d.* matrix P such that    \n",
    "$$A^TP+PA = -cc^T$$   \n",
    "then the system is asymptotically stable.    "
   ]
  },
  {
   "cell_type": "markdown",
   "id": "24c15a05-7c0d-46b2-88ec-d64fe929914b",
   "metadata": {},
   "source": [
    "**Solution:**    \n",
    "Let\n",
    "$$\\begin{equation}\n",
    "M=\n",
    "\\begin{bmatrix}\n",
    "    c^T    \\\\\n",
    "    c^TA   \\\\\n",
    "    c^TA^2 \\\\\n",
    "    \\text{...}\\\\\n",
    "    c^TA^{n-1}\n",
    "\\end{bmatrix}\n",
    "\\end{equation}$$\n",
    "Lyapunov function   \n",
    "$$V=x^TPx$$\n",
    "$$\\dot{V}=\\dot{x}^TPx+x^TP\\dot{x} = -x^Tcc^Tx = -y^Ty$$  \n",
    "Because of $P$ is a symmetric p.d. matrix, $$V>0$$ is positive definite.     \n",
    "For $\\dot{V}$, consider   \n",
    "$$\\begin{equation}\n",
    "\\begin{bmatrix}\n",
    "y  \\\\\n",
    "\\frac{\\partial{y}}{\\partial{t}}     \\\\\n",
    "\\frac{\\partial^2{y}}{\\partial^2{t}}  \\\\\n",
    "\\text{...}\\\\\n",
    "\\frac{\\partial^{n-1}{y}}{\\partial^{n-1}{t}}\n",
    "\\end{bmatrix}\n",
    "{=}\n",
    "\\begin{bmatrix}\n",
    "    c^T    \\\\\n",
    "    c^TA   \\\\\n",
    "    c^TA^2 \\\\\n",
    "    \\text{...}\\\\\n",
    "    c^TA^{n-1}\n",
    "\\end{bmatrix}\n",
    "\\begin{bmatrix}\n",
    "x  \\\\\n",
    "x  \\\\\n",
    "\\frac{\\partial{x}}{\\partial{t}}     \\\\\n",
    "\\text{...}\\\\\n",
    "\\frac{\\partial^{n-2}{x}}{\\partial^{n-2}{t}}\n",
    "\\end{bmatrix}\n",
    "{=}M\n",
    "\\begin{bmatrix}\n",
    "x  \\\\\n",
    "x  \\\\\n",
    "\\frac{\\partial{x}}{\\partial{t}}     \\\\\n",
    "\\text{...}\\\\\n",
    "\\frac{\\partial^{n-2}{x}}{\\partial^{n-2}{t}}\n",
    "\\end{bmatrix}\n",
    "\\end{equation}$$\n",
    "Due to the system is observable,  \n",
    "$$Rank[M]= n$$\n",
    "Thus, $\\dot{V}=0$ only if $x=0$, $\\dot{V}$ is negative definite, the system is asymptotically stable.\n"
   ]
  },
  {
   "cell_type": "markdown",
   "id": "93d42df0-11fd-4239-b474-5b4c14756859",
   "metadata": {
    "tags": []
   },
   "source": [
    "#### Problem 2: \n",
    "Consider the system   \n",
    "$$\\dot{x}=4x^2y-f_1(x)(x^2+2y^2-4)$$\n",
    "$$\\dot{y}=-2x^3-f_2(y)(x^2+2y^2-4)$$\n",
    "where the continuous functions $f_1$ and $f_2$ have the same sign as their argument. Show that the system tends towards a limit cycle independent of the explicit expressions of $f_1$ and $f_2$."
   ]
  },
  {
   "cell_type": "markdown",
   "id": "f560e07c-d11f-4df8-9407-782095154728",
   "metadata": {},
   "source": [
    "**Solution:**   \n",
    "Let   \n",
    "$$\\triangledown V_1 = a_{11}x + a_{12}y $$\n",
    "$$\\triangledown V_2 = a_{21}x + a_{22}y $$\n",
    "The curl equation is   \n",
    "$$\\frac{\\partial V_1}{\\partial y} = \\frac{\\partial V_2}{\\partial x}$$\n",
    "$$a_{12}+x\\frac{\\partial a_{12}}{\\partial y} = a_{21} + x\\frac{\\partial a_{21}}{\\partial x}$$  \n",
    "Chose $a{11}=a{22}=1, a_{12}=a_{21}=0$\n",
    "$$\\triangledown V_1 = x  \\qquad \\triangledown V_2 = y$$\n",
    "Then  \n",
    "$$V=\\int_0^x x \\text{d}x + \\int_0^y y \\text{d}y = \\frac{x^2+y^2}{2}$$ \n",
    "which is positive definite.\n",
    "$$\\begin{equation}\n",
    "\\begin{array}{}\n",
    "\\dot{V}&=\\triangledown V_1 \\dot{x}+\\triangledown V_2 \\dot{y} \\\\\n",
    "&= 4x^3y-xf_1(x)(x^2+2y^2-4)-2x^3y-yf_2(y)(x^2+2y^2-4) \\\\\n",
    "&= 2x^3y -[xf_1(x)+yf_2(y)](x^2+2y^2-4)\n",
    "\\end{array}\n",
    "\\end{equation}$$\n",
    "The system is stable only if $(x,y)$ satisfy\n",
    "$$x^2+2y^2 \\leq \\frac{2x^3y}{xf_1(x)+yf_2(y)}+4$$\n",
    "Due to $xf_1(x)+yf_2(y)\\geq 0$, witch means the system limit cycle is independent with $f_1$ and $f_2$."
   ]
  },
  {
   "cell_type": "markdown",
   "id": "7e019cfa-5838-4d9a-86bb-7be6b6b045c0",
   "metadata": {
    "tags": []
   },
   "source": [
    "#### Problem 3: \n",
    "Consider the following $2^{nd}$ order electrical system with nonlinear inductance resistance and capacitance    \n",
    "$$L(\\dot{q})\\ddot{q}+R(\\dot{q})+C(q)=0$$   \n",
    "where $q$ is the charge in the capacitance. $L(\\dot{q})$ is strictly positive and both $R(\\dot{q})$ and $C(q)$ are of the same sign as the arguments. Find the equilibrium points and determine stability. Also indicate whether the stability is asymptotic and under what conditions it is global."
   ]
  },
  {
   "cell_type": "markdown",
   "id": "58f58863-9934-4d01-8448-894c9a940dd0",
   "metadata": {},
   "source": [
    "**Solution:**   \n",
    "Let $x_1 = \\dot{q}, x_2 = q$, because $L(\\dot{q})$ is strictly positive, we have   \n",
    "$$\\dot{x_1} + \\frac{R(x_1)}{L(x_1)}  + \\frac{C(x_2)}{L(x_1)} = 0$$"
   ]
  },
  {
   "cell_type": "markdown",
   "id": "28838687-c48a-48bf-96ba-b7d0ed2bb3ce",
   "metadata": {},
   "source": [
    "Chose Lyaponnov function  \n",
    "$$V=\\frac{1}{2}x_1^2 + \\int_0^{x_2} \\frac{C(x_2)}{L(x_1)} \\text{d}y = \\frac{1}{2}x_1^2 + \\frac{1}{L(x_1)}\\int_0^{x_2}C(y)\\text{d}y $$  \n",
    "which is positive definite."
   ]
  },
  {
   "cell_type": "markdown",
   "id": "7249c045-2edc-4000-a60f-95313feb78d2",
   "metadata": {},
   "source": [
    "$$\\begin{equation}\n",
    "\\begin{array}{}\n",
    "\\dot{V}&=x_1\\dot{x_1} + \\frac{1}{L(x_1)}C(x_2)\\dot{x_2}    \\\\\n",
    "&= (\\dot{x_1} + \\frac{1}{L(x_1)}C(x_2) )x_1 \\\\\n",
    "&= -\\frac{R(x_1)x_1}{L(x_1)} \n",
    "\\end{array}\n",
    "\\end{equation}$$\n",
    "\n",
    "Thus $\\dot{V}\\leq 0$."
   ]
  },
  {
   "cell_type": "markdown",
   "id": "05499a45-5283-49af-bf34-7294214d56bd",
   "metadata": {},
   "source": [
    "Due to $R(x_1)x_1=0$ only if $x_1 = 0$.\n",
    "For resistance, $R(0)=0$, we have\n",
    "$$ \\dot{x_1} = -\\frac{0}{L(0)}-\\frac{C(x_2)}{L(0)} =-\\frac{C(x_2)}{L(0)}$$"
   ]
  },
  {
   "cell_type": "markdown",
   "id": "487fe1e9-90c2-4141-ac85-926c4de9a31a",
   "metadata": {},
   "source": [
    "Thus $\\dot{x_1}=0$ only if $x_2=0$. That means $\\dot{V}$ is negative definite. The system is asymptotically stable.    \n",
    "If $\\lim_\\limits{|q|\\to \\infty}{\\int_0^{q}C(y)\\text{d}y} \\to\\infty$, the system is globally asymptotically stable."
   ]
  }
 ],
 "metadata": {
  "kernelspec": {
   "display_name": "Python 3",
   "language": "python",
   "name": "python3"
  },
  "language_info": {
   "codemirror_mode": {
    "name": "ipython",
    "version": 3
   },
   "file_extension": ".py",
   "mimetype": "text/x-python",
   "name": "python",
   "nbconvert_exporter": "python",
   "pygments_lexer": "ipython3",
   "version": "3.6.4"
  }
 },
 "nbformat": 4,
 "nbformat_minor": 5
}
