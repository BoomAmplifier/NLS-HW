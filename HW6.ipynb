{
 "cells": [
  {
   "cell_type": "markdown",
   "id": "26a506d9-03fb-4686-9292-ac74ebaa2c7c",
   "metadata": {
    "tags": []
   },
   "source": [
    "# **HW6 for Nonlinear Control Systems** \n",
    "\n",
    "> Instructor: Dr. Le Yi Wang  \n",
    "> **Solutions given by Yuqi Wang**   \n",
    "> Email: he1173@wayne.edu     \n",
    "> Date: 11.29.2021\n",
    "\n",
    "## Descriptions\n",
    "- Source codes are and will be uploaded and updated to [Github repo](https://github.com/BoomAmplifier/NLS-HW.git).  \n",
    "- *Jupyter Notebook* and *python3* are used in the solutions."
   ]
  },
  {
   "cell_type": "markdown",
   "id": "6eea5d5c-496d-4bde-a5ce-130df4bb4d7a",
   "metadata": {
    "tags": []
   },
   "source": [
    "## Solutions  \n",
    "Consider the nonlinear system:\n",
    "$$\\ddot{x}=-a\\dot{x}|\\dot{x}|+x\\sin{x}+bu$$    \n",
    "where $u$ is the control signal.    \n",
    "#### Problem 1: \n",
    "(1) Suppose $a$ and $b$ are exactly known with $a=1$ and $b=1$. Design a feedback controller which will stabilize the system by using the sliding surface    \n",
    "$$ s=\\dot{x}+x$$  \n",
    "(2) Verify your design via simulation.\n",
    "\n",
    "**Solution:**    \n"
   ]
  },
  {
   "cell_type": "markdown",
   "id": "08ea6bd0-cd49-476a-8aa5-a3efd4ab9928",
   "metadata": {},
   "source": [
    "$$\\ddot{x}=-\\dot{x}|\\dot{x}|+x\\sin{x}+u$$\n",
    "$$\\dot{s}=\\ddot{x}+\\dot{x}=-\\dot{x}|\\dot{x}|+x\\sin{x}+u+\\dot{x}=f(\\dot{x},x)+\\dot{x}+u$$\n",
    "Let $$\\dot{s}=v$$\n",
    "Design $$v=-3s$$\n"
   ]
  },
  {
   "cell_type": "markdown",
   "id": "40ea4d52-17e9-4ee1-ba03-ac86f4cb349b",
   "metadata": {},
   "source": [
    "Actual control $u$:\n",
    "$$\\begin{equation}\n",
    "\\begin{array}{}\n",
    "u&=&v-f(\\dot{x},x)-\\dot{x} \\\\\n",
    "&=&v+\\dot{x}|\\dot{x}|-x\\sin{x}-\\dot{x} \\\\\n",
    "&=&-3s+\\dot{x}|\\dot{x}|-x\\sin{x}-\\dot{x} \\\\\n",
    "&=&-3(\\dot{x}+x)+\\dot{x}|\\dot{x}|-x\\sin{x}-\\dot{x}  \\\\\n",
    "&=&-4\\dot{x}+\\dot{x}|\\dot{x}|-x\\sin{x}-3x  \\\\\n",
    "\\end{array}\n",
    "\\end{equation}$$"
   ]
  },
  {
   "cell_type": "markdown",
   "id": "0b5b0823-64bb-4805-8b04-9414e8cf5bb6",
   "metadata": {},
   "source": [
    "Closed-loop system:\n",
    "$$\\begin{equation}\n",
    "\\begin{array}{rCl}\n",
    "\\ddot{x} &=& -\\dot{x}|\\dot{x}| + x\\sin{x} -4\\dot{x}+\\dot{x}|\\dot{x}|-x\\sin{x}-3x \\\\\n",
    "&=&  -4\\dot{x}-3x \\\\\n",
    "\\ddot{x}+4\\dot{x}+3x&=& 0\n",
    "\\end{array}\n",
    "\\end{equation}$$\n"
   ]
  },
  {
   "cell_type": "code",
   "execution_count": null,
   "id": "04b33f9a-0e31-4b27-b75a-e8a22277d12e",
   "metadata": {},
   "outputs": [],
   "source": [
    "import numpy as np\n",
    "import matplotlib.pyplot as plt\n",
    "from sympy import *\n",
    "from scipy import signal\n",
    "import control\n",
    "%matplotlib inline"
   ]
  },
  {
   "cell_type": "markdown",
   "id": "a51b0eed-ed1d-4408-a571-722fa790e9c5",
   "metadata": {},
   "source": [
    "#### Problem 2: \n",
    "(1) Suppose $a$ is uncertain with $1<a<1.5$ and $b=1$. Design a feedback controller which will stabilize the system by using the sliding surface    \n",
    "$$ s=\\dot{x}+x$$  \n",
    "(2) Verify your design via simulation.\n",
    "\n",
    "**Solution:**   "
   ]
  },
  {
   "cell_type": "markdown",
   "id": "8c18e76d-3f8b-4c79-9b75-cc431f9c56cd",
   "metadata": {},
   "source": [
    "$$\\ddot{x}=-1.25\\dot{x}|\\dot{x}|+(1.25-a)\\dot{x}|\\dot{x}|+x\\sin{x}+u=-1.25\\dot{x}|\\dot{x}|+\\Delta+x\\sin{x}+u$$\n",
    "$$|\\Delta|=|(1.25-a)\\dot{x}|\\dot{x}|| \\leq F(x,\\dot{x})=0.25\\dot{x}^2$$\n",
    "$$\\dot{s}=\\ddot{x}+\\dot{x}=-1.25\\dot{x}|\\dot{x}|+x\\sin{x}+u+\\dot{x}+\\Delta$$\n",
    "Let $$\\dot{s}=\\Delta+v$$\n",
    "Design $$v=-5sign(s)-Fsign(s)$$\n",
    "$$\\dot{s}=-5sign(s)-0.25\\dot{x}^2sign(s)+\\Delta$$\n",
    "Actual control:"
   ]
  },
  {
   "cell_type": "markdown",
   "id": "f05ec586-d0de-41fe-9041-e8232f22e563",
   "metadata": {},
   "source": [
    "$$\\begin{equation}\n",
    "\\begin{array}{rCl}\n",
    "u &=& -5sign(s)-0.25\\dot{x}^2sign(s)+\\Delta+1.25\\dot{x}|\\dot{x}|-x\\sin{x}+u-\\dot{x}-\\Delta \\\\\n",
    "&=& -(5+0.25\\dot{x}^2)sign(\\dot{x}+x)+1.25\\dot{x}|\\dot{x}|-x\\sin{x}-\\dot{x}\n",
    "\\end{array}\n",
    "\\end{equation}\n",
    "$$"
   ]
  },
  {
   "cell_type": "markdown",
   "id": "e19c1aee-6cb5-487b-b212-4b101a25acae",
   "metadata": {},
   "source": [
    "Check:\n",
    "$$V(s)=\\frac{1}{2}s^2$$\n",
    "$$\\begin{equation}\n",
    "\\begin{array}{rCl}\n",
    "\\dot{V} &=& sv+s\\Delta \\\\\n",
    "&=& -5|s|-0.25\\dot{x}^2|s| +s\\Delta \\\\\n",
    "&\\leq & -5|s| \\\\\n",
    "&<& 0     \n",
    "\\end{array}\n",
    "\\end{equation}\n",
    "$$\n",
    "When $s\\neq 0$"
   ]
  },
  {
   "cell_type": "markdown",
   "id": "170cb6d3-c373-473d-a3b7-f2a29cfebb53",
   "metadata": {},
   "source": [
    "V(s) is a strict radially unbounded Lyapunov function for $s=0$, under any uncertainty that is bounded by $F$. $s=0$ is globally asymptotically stable.\n",
    "\n",
    "The state equation of the system is:\n",
    "$$\\begin{equation}\n",
    "\\left\\{\n",
    "\\begin{array}{rCl}\n",
    "\\dot{x_1}&=&x_2 \\\\\n",
    "\\dot{x_2}&=&bu-1.25x_2|x_2|+x_1\\sin{x_1}+\\Delta  \\\\\n",
    "&=&bu+f+\\Delta\n",
    "\\end{array}\n",
    "\\right.\n",
    "\\end{equation}\n",
    "$$      \n",
    "\n",
    "$$\\begin{equation}\n",
    "\\left\\{\n",
    "\\begin{array}{rCl}\n",
    "u&=& -(5+0.25x_2^2)sign(x_2+x_1)+1.25x_2|x_2|-x_1\\sin{x_1}-\\dot{x_1} \\\\\n",
    "f&=& -1.25x_2|x_2|+x_1\\sin{x_1}+\\Delta \\\\\n",
    "\\Delta &=& (1.25-a)x_2|x_2|\n",
    "\\end{array}\n",
    "\\right.\n",
    "\\end{equation}\n",
    "$$"
   ]
  },
  {
   "cell_type": "code",
   "execution_count": null,
   "id": "49f56fdd-2bb0-458f-a041-be15d8ca506f",
   "metadata": {},
   "outputs": [],
   "source": []
  },
  {
   "cell_type": "markdown",
   "id": "a1e6bc87-3f9f-4d82-b385-73ee17bcfc68",
   "metadata": {},
   "source": [
    "#### Problem 3: \n",
    "(1) Suppose $a=1$ and $b$ is uncertain with $0.5<b<1.5$. Design a feedback controller which will stabilize the system by using the sliding surface    \n",
    "$$ s=\\dot{x}+x$$  \n",
    "(2) Verify your design via simulation.\n",
    "\n",
    "**Solution:**   "
   ]
  },
  {
   "cell_type": "markdown",
   "id": "b0ac067d-d511-4b66-8fb5-d2b28ca4b70b",
   "metadata": {},
   "source": [
    "$$\\ddot{x}=-\\dot{x}|\\dot{x}|+x\\sin{x}+bu=-\\dot{x}|\\dot{x}|+x\\sin{x}+\\frac{b}{\\hat{b}}\\hat{b}u=-\\dot{x}|\\dot{x}|+x\\sin{x}+\\alpha\\hat{b}u$$\n",
    "$$0<0.5 \\leq b \\leq 1.5$$\n",
    "$$ \\hat{b}=\\sqrt{0.5 \\times 1.5} = \\frac{\\sqrt{3}}{2}$$\n",
    "$$0< \\frac{\\sqrt{3}}{3} \\leq \\alpha \\leq \\sqrt{3}$$\n",
    "$$\\dot{s}=\\ddot{x}+\\dot{x}=-\\dot{x}|\\dot{x}|+x\\sin{x}+\\frac{\\sqrt{3}}{2}\\alpha u +\\dot{x}$$"
   ]
  },
  {
   "cell_type": "markdown",
   "id": "dab48e08-bd53-4881-8256-58778d3f2bae",
   "metadata": {},
   "source": [
    "Design $\\eta = 1$\n",
    "$$\\begin{equation}\n",
    "\\begin{array}{rCl}\n",
    "\\hat{b}u &=& -k(x,\\dot{x})sign(s)-f(x,\\dot{x})-\\dot{x} \\\\\n",
    "\\frac{\\sqrt{3}}{2}u &=& -\\left[ (\\sqrt{3} + (3-\\sqrt{3})|f(x,\\dot{x})+\\dot{x}|\\right]sign(s)-f(x,\\dot{x})-\\dot{x} \\\\\n",
    "&=& -3\\left|-\\dot{x}|\\dot{x}|+x\\sin{x}+\\dot{x}\\right|sign(s)-\\left[-\\dot{x}|\\dot{x}|+x\\sin{x}+\\dot{x} \\right]\n",
    "\\end{array}\n",
    "\\end{equation}\n",
    "$$\n",
    "\n",
    "\n",
    "Check: $V(s)=\\frac{1}{2}s^2$\n",
    "$$\\dot{V}\\leq -|s|<0$$\n",
    "When $s\\neq 0 $"
   ]
  },
  {
   "cell_type": "markdown",
   "id": "ecf7bf34-41c8-4beb-83fe-70ac1653059f",
   "metadata": {},
   "source": [
    "V(s) is a strict radially unbounded Lyapunov function for $s=0$, under any uncertainty on $b$. $s=0$ is globally asymptotically stable."
   ]
  },
  {
   "cell_type": "code",
   "execution_count": null,
   "id": "a668dd3c-598b-4a2f-908e-802988a59dd8",
   "metadata": {},
   "outputs": [],
   "source": []
  }
 ],
 "metadata": {
  "kernelspec": {
   "display_name": "Python 3",
   "language": "python",
   "name": "python3"
  },
  "language_info": {
   "codemirror_mode": {
    "name": "ipython",
    "version": 3
   },
   "file_extension": ".py",
   "mimetype": "text/x-python",
   "name": "python",
   "nbconvert_exporter": "python",
   "pygments_lexer": "ipython3",
   "version": "3.6.4"
  }
 },
 "nbformat": 4,
 "nbformat_minor": 5
}
