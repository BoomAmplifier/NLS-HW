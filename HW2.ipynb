{
 "cells": [
  {
   "cell_type": "markdown",
   "id": "2c7174b6-0d69-4bd8-ad4c-359824444209",
   "metadata": {},
   "source": [
    "# **HW2 for Nonlinear Control Systems** \n",
    "\n",
    "> Instructor: Dr. Le Yi Wang  \n",
    "> **Solutions given by Yuqi Wang**   \n",
    "> Email: he1173@wayne.edu\n",
    "> Date: 10.04.2021\n",
    "\n",
    "## Descriptions\n",
    "- Source codes are and will be uploaded and updated to [Github repo](https://github.com/BoomAmplifier/NLS-HW.git).  \n",
    "- *Jupyter Notebook* and *python3* are used in the solutions."
   ]
  },
  {
   "cell_type": "markdown",
   "id": "a067e874-f334-46f5-82a4-86a04f81de60",
   "metadata": {},
   "source": [
    "## Solutions   \n",
    "#### Problem 1: \n",
    "A second-order nonlinear system is given in state space form    \n",
    "$$ \n",
    "\\begin{equation}\n",
    "    \\tag{1-1}\n",
    "    \\left\\{\n",
    "        \\begin{array}{}\n",
    "            \\dot{x}_1=x_2 \\\\\n",
    "             \\dot{x}_2=x_1(x_1-1)-x_2\n",
    "        \\end{array}\n",
    "    \\right.\n",
    "\\end{equation}\n",
    "$$    \n",
    "Determine the equilibrium points and their stability by local linearization.\n"
   ]
  },
  {
   "cell_type": "markdown",
   "id": "560ed56f-85a9-496e-8ede-3133f65ff0e0",
   "metadata": {},
   "source": [
    "*Solution:*\n"
   ]
  }
 ],
 "metadata": {
  "kernelspec": {
   "display_name": "Python 3",
   "language": "python",
   "name": "python3"
  },
  "language_info": {
   "codemirror_mode": {
    "name": "ipython",
    "version": 3
   },
   "file_extension": ".py",
   "mimetype": "text/x-python",
   "name": "python",
   "nbconvert_exporter": "python",
   "pygments_lexer": "ipython3",
   "version": "3.6.5"
  }
 },
 "nbformat": 4,
 "nbformat_minor": 5
}
