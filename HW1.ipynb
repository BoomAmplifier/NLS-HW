{
 "cells": [
  {
   "cell_type": "markdown",
   "id": "3a7dc19f-9aa2-4d1e-9f67-9abf7941f2e8",
   "metadata": {
    "tags": []
   },
   "source": [
    "# **HW1 for Nonlinear Control Systems** \n",
    "-----------\n",
    "\n",
    "> Instructor: Dr. Le Yi Wang  \n",
    "> **Solutions given by Yuqi Wang**   \n",
    "> Email: he1173@wayne.edu\n",
    "\n",
    "## Descriptions\n",
    "- Source codes are and will be uploaded and updated to [Github repo](https://github.com/BoomAmplifier/NLS-HW.git).  \n",
    "- *Jupyter Notebook* and *python3* are used in the solutions.\n",
    "\n"
   ]
  },
  {
   "cell_type": "markdown",
   "id": "a41a67fa-f862-4c2d-8c42-e7635f530c07",
   "metadata": {},
   "source": [
    "## Solutions   \n",
    "#### Problem 1:   \n",
    "The nonlinear dynamic equations for a single-link manipulator with flexible joints[166],damping ignored, is given by \n",
    "\n",
    "$$ I\\ddot{q_1} + MgL\\sin{q_1} + k(q_1 - q_2) = 0 $$   \n",
    "$$ J\\ddot{q_2} - k(q_1 - q_2) = u $$"
   ]
  },
  {
   "cell_type": "markdown",
   "id": "51fab880-f597-43ee-bfae-ab9736e600cb",
   "metadata": {},
   "source": [
    "where $q_1$ and $q_2$ are angular positions, $I$ and $J$ are moments of inertia, $k$ is a spring constant, $M$ is the total mass, $L$ is a distance, and $u$ is a torque input. Choose state variables for this system and write down the state equation."
   ]
  },
  {
   "cell_type": "markdown",
   "id": "f79c7f75-9b15-476d-926a-fd9d5a3780bb",
   "metadata": {},
   "source": [
    "**Solution:**       \n",
    "Let the state variables' matrix to be\n",
    "\n",
    "$$ \n",
    "\\begin{equation*}\n",
    "X= \n",
    "\\begin{bmatrix}\n",
    "x_1 \\\\\n",
    "x_2 \\\\\n",
    "x_3 \\\\\n",
    "x_4\n",
    "\\end{bmatrix} =\n",
    "\\begin{bmatrix}\n",
    "\\dot{q_1} \\\\\n",
    "q_1       \\\\\n",
    "\\dot{q_2} \\\\\n",
    "q_1 - q_2\n",
    "\\end{bmatrix}\n",
    "\\end{equation*}\n",
    "\\tag{1-1}$$\n",
    "\n",
    "Since    \n",
    "$$ \\begin{align*}\n",
    "I\\ddot{q_1} + MgL\\sin{q_1} + k(q_1 - q_2) &= 0  \\\\\n",
    "I\\dot{x_1} + MgL\\sin{x_2} + kx_4 &= 0           \n",
    "\\end{align*}\n",
    "\\tag{1-2}$$  \n",
    "\n",
    "$$ \\begin{align*}\n",
    "J\\ddot{q_2} - k(q_1 - q_2) &= u \\\\\n",
    "J\\dot{x_3} - kx_4 &= u\n",
    "\\end{align*}\n",
    "\\tag{1-3}$$ \n",
    "\n",
    "Hence    \n",
    "$$\\begin{equation*}\n",
    "\\dot{x_1} = -\\frac{MgL}{I}\\sin{x_2} - \\frac{k}{I}x_4\n",
    "\\end{equation*}\n",
    "\\tag{1-4}$$\n",
    "\n",
    "$$\\begin{equation*}\n",
    "\\dot{x_3} = \\frac{k}{J}x_4 + \\frac{1}{J}u\n",
    "\\end{equation*}\n",
    "\\tag{1-5}$$\n",
    "\n",
    "Also, we have\n",
    "$$\\begin{equation*}\n",
    "\\dot{x_4} = \\dot{q_1} - \\dot{q_2} = x_1 - x_3\n",
    "\\end{equation*}\n",
    "\\tag{1-6}$$"
   ]
  },
  {
   "cell_type": "markdown",
   "id": "9079ee4f-4397-4c98-b74d-92efbd26488f",
   "metadata": {},
   "source": [
    "Above all, we have  \n",
    "$$ \n",
    "\\begin{equation*}\n",
    "\\dot{X}=\n",
    "\\begin{bmatrix}\n",
    "0 & -\\frac{MgL}{I} & 0 & -\\frac{K}{I} \\\\\n",
    "1 & 0             & 0 & 0             \\\\\n",
    "0 & 0 & 0 & \\frac{K}{J}               \\\\\n",
    "1 & 0 & 1 & 0\n",
    "\\end{bmatrix}\n",
    "\\begin{bmatrix}\n",
    "x_1 \\\\\n",
    "\\sin{x_2}\\\\\n",
    "x_3 \\\\\n",
    "x_4\n",
    "\\end{bmatrix}\n",
    "+\n",
    "\\begin{bmatrix}\n",
    "0 \\\\\n",
    "0 \\\\\n",
    "\\frac{1}{J} \\\\\n",
    "0\n",
    "\\end{bmatrix}\n",
    "u\n",
    "\\end{equation*}\n",
    "\\tag{1-7}$$"
   ]
  },
  {
   "cell_type": "markdown",
   "id": "ff9301f3-ec51-4805-bd1b-2ba63c492fb5",
   "metadata": {},
   "source": [
    "**Q1:** Can we chose $\\sin{q_1}$ as one of the state variables?"
   ]
  },
  {
   "cell_type": "markdown",
   "id": "b0ff34b1-043d-488f-b5bc-b5509e36c6d4",
   "metadata": {},
   "source": [
    "#### Problem2:\n",
    "The variables $r$, $u$ and $y$ are vectors of the same dimension, and $\\psi(t,y)$ is a vector-valued function. With $r$ as input and $y$ as output, find a state-space model."
   ]
  },
  {
   "cell_type": "markdown",
   "id": "00bf8d4c-6935-48f4-94ca-9df0f25718ca",
   "metadata": {},
   "source": [
    "**Solution:**   \n",
    "The transfer function $G(s)$ illustrates that the system is a LTI system. \n",
    "\n",
    "Therefore, the state equation would be \n",
    "$$ \n",
    "\\begin{equation*}\n",
    "\\left\\{\n",
    "\\begin{array}{}\n",
    "\\dot{X} = AX + Bu \\\\\n",
    "Y = CX\n",
    "\\end{array}\n",
    "\\right.\n",
    "\\end{equation*}\n",
    "\\tag{2-1}$$\n",
    "\n",
    "where\n",
    "$$\n",
    "\\begin{equation*}\n",
    "u = r-\\psi(t,y) = r-\\psi(t,CX)\n",
    "\\end{equation*}\n",
    "\\tag{2-2}$$\n",
    "\n",
    "Hence, the state-space model of the system could be   \n",
    "$$\n",
    "\\begin{equation*}\n",
    "\\left\\{\n",
    "\\begin{array}{}\n",
    "\\dot{X} = AX + B(r-\\psi(t,CX)) \\\\\n",
    "Y = CX\n",
    "\\end{array}\n",
    "\\right.\n",
    "\\end{equation*}\n",
    "\\tag{2-3}$$\n",
    "\n"
   ]
  },
  {
   "cell_type": "markdown",
   "id": "8b18d416-4432-4b87-b748-fc4c93ca814e",
   "metadata": {},
   "source": [
    "#### Problem3:  \n",
    "Consider the mass-spring system shown in Figure 1.36. Assuming a linear spring and non linear viscous damping described by $c_1\\dot{y}+c_2\\dot{y}\\left|\\dot{y}\\right|$, find a state equation that describes the motion of the system."
   ]
  },
  {
   "cell_type": "markdown",
   "id": "32967a78-a82e-449e-965d-545661f190df",
   "metadata": {},
   "source": [
    "**Solution:**  \n",
    "The picture shows that the force on the object $M$ (consider Gravity as the positive direction) are   \n",
    "\n",
    "$$\n",
    "\\begin{equation*}\n",
    "\\left\\{   \n",
    "\\begin{array}{}   \n",
    "    F_G = Mg \\\\\n",
    "    F_s = -ky \\\\\n",
    "    F_d = -c\\dot{y}\n",
    "\\end{array}\n",
    "\\right.\n",
    "\\end{equation*}\n",
    "\\tag{3-1}$$\n",
    "\n",
    "Where $F_G$ is Gravity, $F_s$ is the elastic force and F_d is the damping force.  \n",
    "According to  \n",
    "$$ \n",
    "\\begin{equation*}\n",
    "\\sum{F} = Ma = M\\ddot{y}\n",
    "\\end{equation*}\n",
    "\\tag{3-2}$$  \n",
    "We have\n",
    "$$\n",
    "\\begin{equation*}\n",
    "Mg-ky-\\left[c_1\\dot{y}+c_2\\dot{y}\\left|\\dot{y}\\right|\\right]=M\\ddot{y}\n",
    "\\end{equation*}\n",
    "\\tag{3-3}$$ \n",
    "Let\n",
    "$$\n",
    "\\begin{equation*}\n",
    "X = \n",
    "\\begin{bmatrix} \n",
    "y \\\\\n",
    "\\dot{y}\n",
    "\\end{bmatrix}\n",
    "\\end{equation*}\n",
    "\\tag{3-4}$$\n",
    "\n",
    "Above all, we have\n",
    "$$\n",
    "\\begin{equation*}\n",
    "\\left\\{ \n",
    "\\begin{array}{} \n",
    "\\dot{x_1} = x_2 \\\\\n",
    "\\dot{x_2}= g-\\frac{k}{M}y-\\frac{c_1}{M}x_2-\\frac{c_2}{M}x_2\\left|x_2\\right|\n",
    "\\end{array}\n",
    "\\right.\n",
    "\\end{equation*}\n",
    "\\tag{3-5}$$\n"
   ]
  },
  {
   "cell_type": "code",
   "execution_count": null,
   "id": "b4b944a8-340d-4cd9-8f09-5b5d56deae86",
   "metadata": {},
   "outputs": [],
   "source": []
  },
  {
   "cell_type": "code",
   "execution_count": null,
   "id": "fbda3945-82af-4c49-a33e-62dbbd576e28",
   "metadata": {},
   "outputs": [],
   "source": []
  }
 ],
 "metadata": {
  "kernelspec": {
   "display_name": "Python 3",
   "language": "python",
   "name": "python3"
  },
  "language_info": {
   "codemirror_mode": {
    "name": "ipython",
    "version": 3
   },
   "file_extension": ".py",
   "mimetype": "text/x-python",
   "name": "python",
   "nbconvert_exporter": "python",
   "pygments_lexer": "ipython3",
   "version": "3.6.5"
  }
 },
 "nbformat": 4,
 "nbformat_minor": 5
}
