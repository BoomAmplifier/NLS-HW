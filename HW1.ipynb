{
 "cells": [
  {
   "cell_type": "markdown",
   "id": "3a7dc19f-9aa2-4d1e-9f67-9abf7941f2e8",
   "metadata": {
    "tags": []
   },
   "source": [
    "# **HW1 for Nonlinear Control Systems** \n",
    "-----------\n",
    "\n",
    "> Instructor: Dr. Le Yi Wang  \n",
    "> **Solutions given by Yuqi Wang**   \n",
    "> Email: he1173@wayne.edu\n",
    "\n",
    "## Descriptions\n",
    "- Source codes are and will be uploaded and updated to [Github repo](https://github.com/BoomAmplifier/NLS-HW.git).  \n",
    "- *Jupyter Notebook* and *python3* are used in the solutions.\n",
    "\n"
   ]
  },
  {
   "cell_type": "markdown",
   "id": "a41a67fa-f862-4c2d-8c42-e7635f530c07",
   "metadata": {},
   "source": [
    "## Solutions   \n",
    "#### Problem 1:   \n",
    "The nonlinear dynamic equations for a single-link manipulator with flexible joints[166],damping ignored, is given by \n",
    "\n",
    "$$ I\\ddot{q}_1 + MgL\\sin{q_1} + k(q_1 - q_2) = 0 $$   \n",
    "$$ J\\ddot{q}_2 - k(q_1 - q_2) = u $$"
   ]
  },
  {
   "cell_type": "markdown",
   "id": "51fab880-f597-43ee-bfae-ab9736e600cb",
   "metadata": {},
   "source": [
    "where $q_1$ and $q_2$ are angular positions, $I$ and $J$ are moments of inertia, $k$ is a spring constant, $M$ is the total mass, $L$ is a distance, and $u$ is a torque input. Choose atate variables for this system and write down the state equation."
   ]
  },
  {
   "cell_type": "markdown",
   "id": "f79c7f75-9b15-476d-926a-fd9d5a3780bb",
   "metadata": {},
   "source": [
    "**Solution:**  "
   ]
  },
  {
   "cell_type": "code",
   "execution_count": null,
   "id": "be7cb526-b60e-465f-9d7f-9fb18624319f",
   "metadata": {},
   "outputs": [],
   "source": []
  }
 ],
 "metadata": {
  "kernelspec": {
   "display_name": "Python 3",
   "language": "python",
   "name": "python3"
  },
  "language_info": {
   "codemirror_mode": {
    "name": "ipython",
    "version": 3
   },
   "file_extension": ".py",
   "mimetype": "text/x-python",
   "name": "python",
   "nbconvert_exporter": "python",
   "pygments_lexer": "ipython3",
   "version": "3.6.5"
  }
 },
 "nbformat": 4,
 "nbformat_minor": 5
}
