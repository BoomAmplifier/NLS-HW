{
 "cells": [
  {
   "cell_type": "markdown",
   "id": "3a7dc19f-9aa2-4d1e-9f67-9abf7941f2e8",
   "metadata": {
    "tags": []
   },
   "source": [
    "# **HW1 for Nonlinear Control Systems** \n",
    "\n",
    "> Instructor: Dr. Le Yi Wang  \n",
    "> **Solutions given by Yuqi Wang**   \n",
    "> Email: he1173@wayne.edu\n",
    "\n",
    "## Descriptions\n",
    "- Source codes are and will be uploaded and updated to [Github repo](https://github.com/BoomAmplifier/NLS-HW.git).  \n",
    "- *Jupyter Notebook* and *python3* are used in the solutions.\n",
    "\n"
   ]
  },
  {
   "cell_type": "markdown",
   "id": "a41a67fa-f862-4c2d-8c42-e7635f530c07",
   "metadata": {},
   "source": [
    "## Solutions   \n",
    "#### Problem 1:   \n",
    "The nonlinear dynamic equations for a single-link manipulator with flexible joints[166],damping ignored, is given by \n",
    "\n",
    "$$ I\\ddot{q_1} + MgL\\sin{q_1} + k(q_1 - q_2) = 0 $$   \n",
    "$$ J\\ddot{q_2} - k(q_1 - q_2) = u $$"
   ]
  },
  {
   "cell_type": "markdown",
   "id": "51fab880-f597-43ee-bfae-ab9736e600cb",
   "metadata": {},
   "source": [
    "where $q_1$ and $q_2$ are angular positions, $I$ and $J$ are moments of inertia, $k$ is a spring constant, $M$ is the total mass, $L$ is a distance, and $u$ is a torque input. Choose state variables for this system and write down the state equation."
   ]
  },
  {
   "cell_type": "markdown",
   "id": "f79c7f75-9b15-476d-926a-fd9d5a3780bb",
   "metadata": {},
   "source": [
    "**Solution:**       \n",
    "Let the state variables' matrix to be\n",
    "\n",
    "$$ \n",
    "\\begin{equation*}\n",
    "X= \n",
    "\\begin{bmatrix}\n",
    "x_1 \\\\\n",
    "x_2 \\\\\n",
    "x_3 \\\\\n",
    "x_4\n",
    "\\end{bmatrix} =\n",
    "\\begin{bmatrix}\n",
    "q_1 \\\\\n",
    "\\dot{q_1}       \\\\\n",
    "q_1 - q_2 \\\\\n",
    "\\dot{q_2}\n",
    "\\end{bmatrix}\n",
    "\\end{equation*}\n",
    "\\tag{1-1}$$\n",
    "\n",
    "Since    \n",
    "$$ \\begin{align*}\n",
    "I\\ddot{q_1} + MgL\\sin{q_1} + k(q_1 - q_2) &= 0  \\\\\n",
    "I\\dot{x_2} + MgL\\sin{x_1} + kx_3 &= 0           \n",
    "\\end{align*}\n",
    "\\tag{1-2}$$  \n",
    "\n",
    "$$ \\begin{align*}\n",
    "J\\ddot{q_2} - k(q_1 - q_2) &= u \\\\\n",
    "J\\dot{x_4} - kx_3 &= u\n",
    "\\end{align*}\n",
    "\\tag{1-3}$$ \n",
    "\n",
    "Hence    \n",
    "$$\\begin{equation*}\n",
    "\\dot{x_2} = -\\frac{MgL}{I}\\sin{x_1} - \\frac{k}{I}x_3\n",
    "\\end{equation*}\n",
    "\\tag{1-4}$$\n",
    "\n",
    "$$\\begin{equation*}\n",
    "\\dot{x_4} = \\frac{k}{J}x_3 + \\frac{1}{J}u\n",
    "\\end{equation*}\n",
    "\\tag{1-5}$$\n",
    "\n",
    "Also, we have\n",
    "$$\\begin{equation*}\n",
    "\\dot{x_3} = \\dot{q_1} - \\dot{q_2} = x_2 - x_4\n",
    "\\end{equation*}\n",
    "\\tag{1-6}$$"
   ]
  },
  {
   "cell_type": "markdown",
   "id": "9079ee4f-4397-4c98-b74d-92efbd26488f",
   "metadata": {},
   "source": [
    "Above all, we have  \n",
    "$$ \n",
    "\\begin{equation*}\n",
    "\\dot{X}=\n",
    "\\begin{bmatrix}\n",
    "0 & 1 & 0 & 0             \\\\\n",
    "-\\frac{MgL}{I} & 0 & -\\frac{K}{I} & 0 \\\\\n",
    "0 & 1 & 0 & 1             \\\\\n",
    "0 & 0 & \\frac{K}{J}  & 0              \n",
    "\\end{bmatrix}\n",
    "\\begin{bmatrix}\n",
    "\\sin{x_1} \\\\\n",
    "x_2\\\\\n",
    "x_3 \\\\\n",
    "x_4\n",
    "\\end{bmatrix}\n",
    "+\n",
    "\\begin{bmatrix}\n",
    "0 \\\\\n",
    "0 \\\\\n",
    "0 \\\\\n",
    "\\frac{1}{J} \n",
    "\\end{bmatrix}\n",
    "u\n",
    "\\end{equation*}\n",
    "\\tag{1-7}$$"
   ]
  },
  {
   "cell_type": "markdown",
   "id": "ff9301f3-ec51-4805-bd1b-2ba63c492fb5",
   "metadata": {},
   "source": [
    "**Q1:** Can we chose $\\sin{q_1}$ as one of the state variables?"
   ]
  },
  {
   "cell_type": "markdown",
   "id": "b0ff34b1-043d-488f-b5bc-b5509e36c6d4",
   "metadata": {},
   "source": [
    "#### Problem2:\n",
    "The variables $r$, $u$ and $y$ are vectors of the same dimension, and $\\psi(t,y)$ is a vector-valued function. With $r$ as input and $y$ as output, find a state-space model."
   ]
  },
  {
   "cell_type": "markdown",
   "id": "00bf8d4c-6935-48f4-94ca-9df0f25718ca",
   "metadata": {},
   "source": [
    "**Solution:**   \n",
    "The transfer function $G(s)$ illustrates that the system is a LTI system. \n",
    "\n",
    "Therefore, the state equation would be \n",
    "$$ \n",
    "\\begin{equation*}\n",
    "\\left\\{\n",
    "\\begin{array}{}\n",
    "\\dot{X} = AX + Bu \\\\\n",
    "Y = CX\n",
    "\\end{array}\n",
    "\\right.\n",
    "\\end{equation*}\n",
    "\\tag{2-1}$$\n",
    "\n",
    "where\n",
    "$$\n",
    "\\begin{equation*}\n",
    "u = r-\\psi(t,y) = r-\\psi(t,CX)\n",
    "\\end{equation*}\n",
    "\\tag{2-2}$$\n",
    "\n",
    "Hence, the state-space model of the system could be   \n",
    "$$\n",
    "\\begin{equation*}\n",
    "\\left\\{\n",
    "\\begin{array}{}\n",
    "\\dot{X} = AX + B(r-\\psi(t,CX)) \\\\\n",
    "Y = CX\n",
    "\\end{array}\n",
    "\\right.\n",
    "\\end{equation*}\n",
    "\\tag{2-3}$$\n",
    "\n"
   ]
  },
  {
   "cell_type": "markdown",
   "id": "8b18d416-4432-4b87-b748-fc4c93ca814e",
   "metadata": {},
   "source": [
    "#### Problem3:  \n",
    "Consider the mass-spring system shown in Figure 1.36. Assuming a linear spring and non linear viscous damping described by $c_1\\dot{y}+c_2\\dot{y}\\left|\\dot{y}\\right|$, find a state equation that describes the motion of the system."
   ]
  },
  {
   "cell_type": "markdown",
   "id": "32967a78-a82e-449e-965d-545661f190df",
   "metadata": {},
   "source": [
    "**Solution:**  \n",
    "The picture shows that the force on the object $M$ (consider Gravity as the positive direction) are   \n",
    "\n",
    "$$\n",
    "\\begin{equation*}\n",
    "\\left\\{   \n",
    "\\begin{array}{}   \n",
    "    F_G = Mg \\\\\n",
    "    F_s = -ky \\\\\n",
    "    F_d = -c\\dot{y}\n",
    "\\end{array}\n",
    "\\right.\n",
    "\\end{equation*}\n",
    "\\tag{3-1}$$\n",
    "\n",
    "Where $F_G$ is Gravity, $F_s$ is the elastic force and F_d is the damping force.  \n",
    "According to  \n",
    "$$ \n",
    "\\begin{equation*}\n",
    "\\sum{F} = Ma = M\\ddot{y}\n",
    "\\end{equation*}\n",
    "\\tag{3-2}$$  \n",
    "We have\n",
    "$$\n",
    "\\begin{equation*}\n",
    "Mg-ky-\\left[c_1\\dot{y}+c_2\\dot{y}\\left|\\dot{y}\\right|\\right]=M\\ddot{y}\n",
    "\\end{equation*}\n",
    "\\tag{3-3}$$ \n",
    "Let\n",
    "$$\n",
    "\\begin{equation*}\n",
    "X = \n",
    "\\begin{bmatrix} \n",
    "y \\\\\n",
    "\\dot{y}\n",
    "\\end{bmatrix}\n",
    "\\end{equation*}\n",
    "\\tag{3-4}$$\n",
    "\n",
    "Above all, we have\n",
    "$$\n",
    "\\begin{equation*}\n",
    "\\left\\{ \n",
    "\\begin{array}{} \n",
    "\\dot{x_1} = x_2 \\\\\n",
    "\\dot{x_2}= g-\\frac{k}{M}y-\\frac{c_1}{M}x_2-\\frac{c_2}{M}x_2\\left|x_2\\right|\n",
    "\\end{array}\n",
    "\\right.\n",
    "\\end{equation*}\n",
    "\\tag{3-5}$$\n"
   ]
  },
  {
   "cell_type": "markdown",
   "id": "ca415ff2-e921-476b-94bf-d99299cbad0b",
   "metadata": {},
   "source": [
    "#### Problem4:  \n",
    "For the following systems, (1)Derive their state space models; (2)Find all equilibrium points; (3)Linearize the systems around the equilibrium points; (4)Determine if the linearized systems are stable."
   ]
  },
  {
   "cell_type": "markdown",
   "id": "d502c8ff-c8bd-4df1-ab46-be0d7d38fd13",
   "metadata": {},
   "source": [
    "($a$) $\\dot{x} = -x^3+\\sin^4{x}$  \n",
    "**Solution:**   \n",
    "Let \n",
    "$$-x^3+\\sin^4{x} = 0$$ \n",
    "\n",
    "Using Python to draw a figure of $-x^3$ and $\\sin^4{x}$ to see wether or not there are multiple equilibrium points."
   ]
  },
  {
   "cell_type": "code",
   "execution_count": 19,
   "id": "c2c17895-aba4-4e84-83f2-8d986ec31a57",
   "metadata": {},
   "outputs": [
    {
     "data": {
      "image/png": "[encoded data removed]",
      "text/plain": [
       "<matplotlib.figure.Figure at 0x106039be0>"
      ]
     },
     "metadata": {
      "needs_background": "light"
     },
     "output_type": "display_data"
    }
   ],
   "source": [
    "import numpy as np\n",
    "import matplotlib.pyplot as plt\n",
    "%matplotlib inline\n",
    "x1= np.linspace(-1*np.pi,1*np.pi,1024,endpoint=True)\n",
    "y1= np.power(np.sin(x1),4)\n",
    "y2= np.power(x1,3)\n",
    "plt.plot(x1,y1,x1,y2)\n",
    "plt.ylim(-0.5,1.5)\n",
    "plt.show()"
   ]
  },
  {
   "cell_type": "markdown",
   "id": "4523c10c-e776-4334-896c-70af3378232d",
   "metadata": {},
   "source": [
    "The only one equilibrium point should be $x_1 = 0$ \n",
    "$$\n",
    "\\begin{equation*}\n",
    "\\begin{array}{} \n",
    "x_1=0: & & \\frac{\\text{d}(-x^3+\\sin^4{x})}{\\text{d}x}\\mid_{x=0}=0 \\\\\n",
    " & & \\frac{\\text{d}(x-0)}{\\text{d}t}= 0\n",
    "\\end{array}\n",
    "\\end{equation*}\n",
    "\\tag{4-1}$$"
   ]
  },
  {
   "cell_type": "markdown",
   "id": "1a07a22f-1fe6-4b8a-8a4b-eea9fb35f938",
   "metadata": {},
   "source": [
    "The system is inconclusive at 0. And the linearized system is\n",
    "$$ \\Delta{\\dot{x}(t)} = 0$$"
   ]
  },
  {
   "cell_type": "markdown",
   "id": "224e692f-3f23-4b67-886a-85364a1e8d0e",
   "metadata": {},
   "source": [
    "($b$) $\\dot{x}=(5-x)^5$    \n",
    "\n",
    "**Solution:**   \n",
    "Let $(5-x)^5=0$  \n",
    "\n",
    "Obviously, the equilibrium point is $x_1=5$.\n",
    "$$\n",
    "\\begin{equation*}\n",
    "\\begin{array}{} \n",
    "x_1=5: & & \\frac{\\text{d}((5-x)^5)}{\\text{d}x}\\mid_{x=5}  \\\\\n",
    "& &=-5(5-x)^4\\mid_{x=5}  \\\\\n",
    "& &=0  \\\\\n",
    "& & \\frac{\\text{d}(x-5)}{\\text{d}t}= 0\n",
    "\\end{array}\n",
    "\\end{equation*}\n",
    "\\tag{4-2}$$\n",
    "\n",
    "The system is stable at 0. And the linearized system is\n",
    "$$ \\Delta{\\dot{x}(t)} = 0$$"
   ]
  },
  {
   "cell_type": "markdown",
   "id": "6ed9c6b3-01c3-4f4c-9e9e-636ef5029c42",
   "metadata": {},
   "source": [
    "($c$)$\\ddot{x}+\\dot{x}^7+x^3=\\sin^4{x}$ \n",
    "\n",
    "**Solution:**\n",
    "Let $x_1=\\dot{x}$,$x_2=x$  \n",
    "We have  \n",
    "$$ \\dot{x_1}=\\sin^4{x_2}-x_1^7-x_2^3$$       \n",
    "$$ \\dot{x_2}=x_1 $$    "
   ]
  },
  {
   "cell_type": "markdown",
   "id": "d5780f3f-f373-4a7c-a2e9-e994d6e18128",
   "metadata": {},
   "source": [
    "Nominal Signals:   \n",
    "$$ x_1^0(t) = 0 $$   \n",
    "$$ \\sin^4{x_2}-x_2^3 = 0$$"
   ]
  },
  {
   "cell_type": "markdown",
   "id": "6a98e886-0583-46b2-b532-82328694862f",
   "metadata": {},
   "source": [
    "Refer to ($a$), we can obtain\n",
    "$$ x_2^0(t) = 0 $$\n",
    "Hence   \n",
    "$$\n",
    "\\begin{equation*}\n",
    "\\begin{bmatrix}\n",
    "\\Delta{\\dot{x_1}} \\\\\n",
    "\\Delta{\\dot{x_2}}\n",
    "\\end{bmatrix}\n",
    "{=}\n",
    "{\\begin{bmatrix}\n",
    "\\frac{\\partial{f_1}}{x_1} & \\frac{\\partial{f_1}}{x_2} \\\\\n",
    "\\frac{\\partial{f_2}}{x_1} & \\frac{\\partial{f_2}}{x_2} \n",
    "\\end{bmatrix}}_{\\mid{x_1^0(t) = 0,x_2^0(t) = 0}} \n",
    "\\begin{bmatrix}\n",
    "x_1-0 \\\\\n",
    "x_2-0\n",
    "\\end{bmatrix}\n",
    "\\end{equation*}$$\n",
    "\n",
    "$$ \\Delta{\\dot{X}(t)} = \\Delta{\\dot{X}(t)}$$\n",
    "Inconclusive."
   ]
  },
  {
   "cell_type": "markdown",
   "id": "a5482b83-b152-4732-8977-c2043adec2c9",
   "metadata": {},
   "source": [
    "($d$)$\\ddot{x}+(x-1)^4\\dot{x}^7+x^5=x^3\\sin^3x$"
   ]
  },
  {
   "cell_type": "markdown",
   "id": "03764f4c-cb43-4118-828c-fc00d963d581",
   "metadata": {},
   "source": [
    "**Solution:** Let $x_1=\\dot{x}$,$x_2=x$   \n",
    "We have\n",
    "$$\\dot{x_1}=x_2^3\\sin^3{x_2}-(x_2-1)^4x_1^7-x_2^5$$ \n",
    "$$\\dot{x_2}=x_1$$  \n",
    "Nominal Signals:\n",
    "$$ x_1^0(t) = 0 $$ \n",
    "$$x_2^3\\sin^3{x_2}-x_2^5=0$$ \n",
    "$$\\Rightarrow x_2^2=\\sin^3{x_2}$$"
   ]
  },
  {
   "cell_type": "markdown",
   "id": "94811e8a-fcec-4051-a881-77f17b5bada8",
   "metadata": {},
   "source": [
    "Using Python to draw a figure of $-x^2$ and $\\sin^3{x}$ to see wether or not there are multiple equilibrium points."
   ]
  },
  {
   "cell_type": "code",
   "execution_count": 23,
   "id": "fd75053f-5991-48c8-8fdd-d039be63830f",
   "metadata": {},
   "outputs": [
    {
     "data": {
      "image/png": "[encoded data removed]",
      "text/plain": [
       "<matplotlib.figure.Figure at 0x11debc4a8>"
      ]
     },
     "metadata": {
      "needs_background": "light"
     },
     "output_type": "display_data"
    }
   ],
   "source": [
    "import numpy as np\n",
    "import matplotlib.pyplot as plt\n",
    "%matplotlib inline\n",
    "x1= np.linspace(-1*np.pi,1*np.pi,1024,endpoint=True)\n",
    "y1= np.power(np.sin(x1),3)\n",
    "y2= np.power(x1,2)\n",
    "plt.plot(x1,y1,x1,y2)\n",
    "plt.ylim(-1.5,1.5)\n",
    "plt.show()"
   ]
  },
  {
   "cell_type": "markdown",
   "id": "eb881a7c-f3bb-48b4-8855-34923e379238",
   "metadata": {},
   "source": [
    "Thus, $$ x_2^0(t) = 0 $$ \n",
    "Above all,\n",
    "$$\\begin{equation*}\n",
    "\\begin{bmatrix}\n",
    "\\Delta{\\dot{x_1}} \\\\\n",
    "\\Delta{\\dot{x_2}}\n",
    "\\end{bmatrix}\n",
    "{=}\n",
    "{\\begin{bmatrix}\n",
    "\\frac{\\partial{f_1}}{x_1} & \\frac{\\partial{f_1}}{x_2} \\\\\n",
    "\\frac{\\partial{f_2}}{x_1} & \\frac{\\partial{f_2}}{x_2} \n",
    "\\end{bmatrix}}_{\\mid{x_1^0(t) = 0,x_2^0(t) = 0}}\n",
    "\\begin{bmatrix}\n",
    "x_1-0 \\\\\n",
    "x_2-0\n",
    "\\end{bmatrix}\n",
    "\\end{equation*}\n",
    "$$\n",
    "$$ \\Delta{\\dot{X}(t)} = \\Delta{\\dot{X}(t)} $$"
   ]
  },
  {
   "cell_type": "markdown",
   "id": "17b968b7-abfd-4998-af08-9d670964733f",
   "metadata": {},
   "source": [
    "($e$)$\\ddot{x}+(x-1)^2\\dot{x}^7+x=\\sin{(\\pi x/2)}$"
   ]
  },
  {
   "cell_type": "markdown",
   "id": "e72afe0a-b0d3-45fe-90df-cf9b2af334f3",
   "metadata": {},
   "source": [
    "**Solution:** Let $x_1=\\dot{x}$,$x_2=x$   \n",
    "We have\n",
    "$$\\dot{x_1}=\\sin{(\\pi x_2/2)}-(x_2-1)^2x_1^7-x_2$$ \n",
    "$$\\dot{x_2}=x_1$$  \n",
    "Nominal Signals:\n",
    "$$ x_1^0(t) = 0 $$ \n",
    "$$ \\sin{(\\pi x_2/2)}-x_2=0$$ "
   ]
  },
  {
   "cell_type": "code",
   "execution_count": 1,
   "id": "173285a1-d432-4745-b7d1-4afd3272976d",
   "metadata": {},
   "outputs": [
    {
     "data": {
      "image/png": "[encoded data removed]",
      "text/plain": [
       "<matplotlib.figure.Figure at 0x106614d68>"
      ]
     },
     "metadata": {
      "needs_background": "light"
     },
     "output_type": "display_data"
    }
   ],
   "source": [
    "import numpy as np\n",
    "import matplotlib.pyplot as plt\n",
    "%matplotlib inline\n",
    "x1= np.linspace(-1*np.pi,1*np.pi,1024,endpoint=True)\n",
    "y1= np.sin(np.pi*x1/2)\n",
    "y2= x1\n",
    "plt.plot(x1,y1,x1,y2)\n",
    "plt.ylim(-1.5,1.5)\n",
    "plt.show()"
   ]
  },
  {
   "cell_type": "markdown",
   "id": "8dad95e8-d6cf-401f-a005-94b1aa400b38",
   "metadata": {},
   "source": [
    "Therefore, $$ x_2^0(t) = -1,0,1 $$ "
   ]
  },
  {
   "cell_type": "markdown",
   "id": "80df6952-e0da-4ec6-b593-316f7fd7f5a3",
   "metadata": {},
   "source": [
    "Calculate the Jacobi matrix:\n",
    "$$\n",
    "\\begin{equation*}\n",
    "J=\n",
    "\\begin{bmatrix}{}\n",
    "\\frac{\\partial{f_1}}{x_1} & \\frac{\\partial{f_1}}{x_2} \\\\\n",
    "\\frac{\\partial{f_2}}{x_1} & \\frac{\\partial{f_2}}{x_2} \n",
    "\\end{bmatrix}\n",
    "{=}\n",
    "\\begin{bmatrix}{}\n",
    "-7(x_2-1)^2x_1^6 & \\cos{(\\frac{\\pi}{2}x_2)}-2x_1^7(x_2-1)-1 \\\\\n",
    "1 & 0\n",
    "\\end{bmatrix}\n",
    "\\end{equation*}$$"
   ]
  },
  {
   "cell_type": "markdown",
   "id": "cb514bf2-a1fa-4d42-afc1-f83af396ccbe",
   "metadata": {},
   "source": [
    "$$\n",
    "\\begin{equation*}\n",
    "J_{\\mid_{[0,-1]}}=\n",
    "\\begin{bmatrix}\n",
    "0 & -1 \\\\\n",
    "1 & 0\n",
    "\\end{bmatrix}\n",
    "\\end{equation*}$$\n",
    "\n",
    "$$\n",
    "\\begin{equation*}\n",
    "J_{\\mid_{[0,0]}}=\n",
    "\\begin{bmatrix}\n",
    "0 & 0 \\\\\n",
    "1 & 0\n",
    "\\end{bmatrix}\n",
    "\\end{equation*}$$\n",
    "\n",
    "$$\n",
    "\\begin{equation*}\n",
    "J_{\\mid_{[0,1]}}=\n",
    "\\begin{bmatrix}\n",
    "0 & -1 \\\\\n",
    "1 & 0\n",
    "\\end{bmatrix}\n",
    "\\end{equation*}$$"
   ]
  },
  {
   "cell_type": "markdown",
   "id": "98ace098-72ee-45d6-99f2-d728d2ee9e68",
   "metadata": {},
   "source": [
    "When $[x_1,x_2]=[0,-1]$\n",
    "$$\\begin{equation*}\n",
    "\\begin{array}{}\n",
    "\\Delta{\\dot{x}_1(t)} &= -x_2(t)-1 \\\\\n",
    "\\Delta{\\dot{x}_2(t)} &= {x}_1(t)\n",
    "\\end{array}\n",
    "\\end{equation*}$$\n",
    "The system is centre.\n",
    "\n",
    "$[x_1,x_2]=[0,0]$\n",
    "$$\\begin{equation*}\n",
    "\\begin{array}{}\n",
    "\\Delta{\\dot{x}_1(t)} &= 0 \\\\\n",
    "\\Delta{\\dot{x}_2(t)} &= {x}_1(t) \n",
    "\\end{array}\n",
    "\\end{equation*}$$\n",
    "The equilibrum point (0,0) is saddle point.   \n",
    "$[x_1,x_2]=[0,1]$\n",
    "$$\\begin{equation*}\n",
    "\\begin{array}{}\n",
    "\\Delta{\\dot{x}_1(t)} &= -x_2(t)+1 \\\\\n",
    "\\Delta{\\dot{x}_2(t)} &= {x}_1(t) \n",
    "\\end{array}\n",
    "\\end{equation*}\n",
    "$$\n",
    "The system is centre.   \n"
   ]
  },
  {
   "cell_type": "code",
   "execution_count": null,
   "id": "3c5aa46a-6a3b-42b4-b7cc-067861abcd25",
   "metadata": {},
   "outputs": [],
   "source": []
  }
 ],
 "metadata": {
  "kernelspec": {
   "display_name": "Python 3",
   "language": "python",
   "name": "python3"
  },
  "language_info": {
   "codemirror_mode": {
    "name": "ipython",
    "version": 3
   },
   "file_extension": ".py",
   "mimetype": "text/x-python",
   "name": "python",
   "nbconvert_exporter": "python",
   "pygments_lexer": "ipython3",
   "version": "3.6.4"
  }
 },
 "nbformat": 4,
 "nbformat_minor": 5
}
